{
 "cells": [
  {
   "cell_type": "code",
   "execution_count": 17,
   "metadata": {},
   "outputs": [],
   "source": [
    "import os, sys\n",
    "parent_folder_path = os.path.abspath(os.path.join(os.getcwd(), os.pardir))\n",
    "sys.path.append(parent_folder_path)"
   ]
  },
  {
   "cell_type": "code",
   "execution_count": 7,
   "metadata": {},
   "outputs": [
    {
     "data": {
      "text/html": [
       "<div>\n",
       "<style scoped>\n",
       "    .dataframe tbody tr th:only-of-type {\n",
       "        vertical-align: middle;\n",
       "    }\n",
       "\n",
       "    .dataframe tbody tr th {\n",
       "        vertical-align: top;\n",
       "    }\n",
       "\n",
       "    .dataframe thead th {\n",
       "        text-align: right;\n",
       "    }\n",
       "</style>\n",
       "<table border=\"1\" class=\"dataframe\">\n",
       "  <thead>\n",
       "    <tr style=\"text-align: right;\">\n",
       "      <th></th>\n",
       "      <th>bookmark_count</th>\n",
       "      <th>bookmarked</th>\n",
       "      <th>conversation_id_str</th>\n",
       "      <th>created_at</th>\n",
       "      <th>display_text_range</th>\n",
       "      <th>entities</th>\n",
       "      <th>favorite_count</th>\n",
       "      <th>favorited</th>\n",
       "      <th>full_text</th>\n",
       "      <th>is_quote_status</th>\n",
       "      <th>...</th>\n",
       "      <th>MW_Replies</th>\n",
       "      <th>MW_Reposts</th>\n",
       "      <th>MW_Comments</th>\n",
       "      <th>MW_Reactions</th>\n",
       "      <th>MW_Views</th>\n",
       "      <th>MW_Estimated Views</th>\n",
       "      <th>MW_Document Tags</th>\n",
       "      <th>post_type</th>\n",
       "      <th>url</th>\n",
       "      <th>has_retweeted_status_result</th>\n",
       "    </tr>\n",
       "  </thead>\n",
       "  <tbody>\n",
       "    <tr>\n",
       "      <th>3</th>\n",
       "      <td>0</td>\n",
       "      <td>False</td>\n",
       "      <td>1816217080397455588</td>\n",
       "      <td>Wed Jul 24 21:01:10 +0000 2024</td>\n",
       "      <td>[0, 276]</td>\n",
       "      <td>{'hashtags': [], 'symbols': [], 'timestamps': ...</td>\n",
       "      <td>3</td>\n",
       "      <td>False</td>\n",
       "      <td>Algunos padres están alarmados por nuevas circ...</td>\n",
       "      <td>False</td>\n",
       "      <td>...</td>\n",
       "      <td>NaN</td>\n",
       "      <td>NaN</td>\n",
       "      <td>NaN</td>\n",
       "      <td>3.0</td>\n",
       "      <td>15.0</td>\n",
       "      <td>NaN</td>\n",
       "      <td>NaN</td>\n",
       "      <td>Post</td>\n",
       "      <td>https://twitter.com/1302389542457159685/status...</td>\n",
       "      <td>False</td>\n",
       "    </tr>\n",
       "    <tr>\n",
       "      <th>5</th>\n",
       "      <td>0</td>\n",
       "      <td>False</td>\n",
       "      <td>1816201806252490955</td>\n",
       "      <td>Wed Jul 24 20:39:44 +0000 2024</td>\n",
       "      <td>[5, 72]</td>\n",
       "      <td>{'hashtags': [], 'symbols': [], 'timestamps': ...</td>\n",
       "      <td>0</td>\n",
       "      <td>False</td>\n",
       "      <td>@T13 .\\nTodos extranjeros no pago vacuna algun...</td>\n",
       "      <td>False</td>\n",
       "      <td>...</td>\n",
       "      <td>NaN</td>\n",
       "      <td>NaN</td>\n",
       "      <td>NaN</td>\n",
       "      <td>NaN</td>\n",
       "      <td>1.0</td>\n",
       "      <td>NaN</td>\n",
       "      <td>NaN</td>\n",
       "      <td>Comment</td>\n",
       "      <td>https://twitter.com/15626578/status/1816211686...</td>\n",
       "      <td>False</td>\n",
       "    </tr>\n",
       "    <tr>\n",
       "      <th>6</th>\n",
       "      <td>0</td>\n",
       "      <td>False</td>\n",
       "      <td>1815161737496134018</td>\n",
       "      <td>Wed Jul 24 20:11:18 +0000 2024</td>\n",
       "      <td>[53, 171]</td>\n",
       "      <td>{'hashtags': [], 'symbols': [], 'timestamps': ...</td>\n",
       "      <td>1</td>\n",
       "      <td>False</td>\n",
       "      <td>@Luis314PII @linea_progre @tasty4ever1 @esCesa...</td>\n",
       "      <td>False</td>\n",
       "      <td>...</td>\n",
       "      <td>1.0</td>\n",
       "      <td>NaN</td>\n",
       "      <td>NaN</td>\n",
       "      <td>NaN</td>\n",
       "      <td>9.0</td>\n",
       "      <td>NaN</td>\n",
       "      <td>NaN</td>\n",
       "      <td>Comment</td>\n",
       "      <td>https://twitter.com/78798396/status/1816204532...</td>\n",
       "      <td>False</td>\n",
       "    </tr>\n",
       "    <tr>\n",
       "      <th>7</th>\n",
       "      <td>0</td>\n",
       "      <td>False</td>\n",
       "      <td>1815161737496134018</td>\n",
       "      <td>Wed Jul 24 20:10:29 +0000 2024</td>\n",
       "      <td>[53, 305]</td>\n",
       "      <td>{'hashtags': [], 'symbols': [], 'timestamps': ...</td>\n",
       "      <td>1</td>\n",
       "      <td>False</td>\n",
       "      <td>@Luis314PII @linea_progre @tasty4ever1 @esCesa...</td>\n",
       "      <td>False</td>\n",
       "      <td>...</td>\n",
       "      <td>NaN</td>\n",
       "      <td>NaN</td>\n",
       "      <td>NaN</td>\n",
       "      <td>1.0</td>\n",
       "      <td>4.0</td>\n",
       "      <td>NaN</td>\n",
       "      <td>NaN</td>\n",
       "      <td>Comment</td>\n",
       "      <td>https://twitter.com/78798396/status/1816204327...</td>\n",
       "      <td>False</td>\n",
       "    </tr>\n",
       "    <tr>\n",
       "      <th>11</th>\n",
       "      <td>0</td>\n",
       "      <td>False</td>\n",
       "      <td>1816165237101662691</td>\n",
       "      <td>Wed Jul 24 17:35:09 +0000 2024</td>\n",
       "      <td>[0, 280]</td>\n",
       "      <td>{'hashtags': [], 'symbols': [], 'timestamps': ...</td>\n",
       "      <td>13</td>\n",
       "      <td>False</td>\n",
       "      <td>Estimados compañeros Bicentenarios.\\nEste es u...</td>\n",
       "      <td>False</td>\n",
       "      <td>...</td>\n",
       "      <td>NaN</td>\n",
       "      <td>7.0</td>\n",
       "      <td>NaN</td>\n",
       "      <td>13.0</td>\n",
       "      <td>102.0</td>\n",
       "      <td>NaN</td>\n",
       "      <td>NaN</td>\n",
       "      <td>Post</td>\n",
       "      <td>https://twitter.com/106178430/status/181616523...</td>\n",
       "      <td>False</td>\n",
       "    </tr>\n",
       "  </tbody>\n",
       "</table>\n",
       "<p>5 rows × 72 columns</p>\n",
       "</div>"
      ],
      "text/plain": [
       "    bookmark_count  bookmarked  conversation_id_str  \\\n",
       "3                0       False  1816217080397455588   \n",
       "5                0       False  1816201806252490955   \n",
       "6                0       False  1815161737496134018   \n",
       "7                0       False  1815161737496134018   \n",
       "11               0       False  1816165237101662691   \n",
       "\n",
       "                        created_at display_text_range  \\\n",
       "3   Wed Jul 24 21:01:10 +0000 2024           [0, 276]   \n",
       "5   Wed Jul 24 20:39:44 +0000 2024            [5, 72]   \n",
       "6   Wed Jul 24 20:11:18 +0000 2024          [53, 171]   \n",
       "7   Wed Jul 24 20:10:29 +0000 2024          [53, 305]   \n",
       "11  Wed Jul 24 17:35:09 +0000 2024           [0, 280]   \n",
       "\n",
       "                                             entities  favorite_count  \\\n",
       "3   {'hashtags': [], 'symbols': [], 'timestamps': ...               3   \n",
       "5   {'hashtags': [], 'symbols': [], 'timestamps': ...               0   \n",
       "6   {'hashtags': [], 'symbols': [], 'timestamps': ...               1   \n",
       "7   {'hashtags': [], 'symbols': [], 'timestamps': ...               1   \n",
       "11  {'hashtags': [], 'symbols': [], 'timestamps': ...              13   \n",
       "\n",
       "    favorited                                          full_text  \\\n",
       "3       False  Algunos padres están alarmados por nuevas circ...   \n",
       "5       False  @T13 .\\nTodos extranjeros no pago vacuna algun...   \n",
       "6       False  @Luis314PII @linea_progre @tasty4ever1 @esCesa...   \n",
       "7       False  @Luis314PII @linea_progre @tasty4ever1 @esCesa...   \n",
       "11      False  Estimados compañeros Bicentenarios.\\nEste es u...   \n",
       "\n",
       "    is_quote_status  ... MW_Replies  MW_Reposts  MW_Comments  MW_Reactions  \\\n",
       "3             False  ...        NaN         NaN          NaN           3.0   \n",
       "5             False  ...        NaN         NaN          NaN           NaN   \n",
       "6             False  ...        1.0         NaN          NaN           NaN   \n",
       "7             False  ...        NaN         NaN          NaN           1.0   \n",
       "11            False  ...        NaN         7.0          NaN          13.0   \n",
       "\n",
       "    MW_Views MW_Estimated Views MW_Document Tags post_type  \\\n",
       "3       15.0                NaN              NaN      Post   \n",
       "5        1.0                NaN              NaN   Comment   \n",
       "6        9.0                NaN              NaN   Comment   \n",
       "7        4.0                NaN              NaN   Comment   \n",
       "11     102.0                NaN              NaN      Post   \n",
       "\n",
       "                                                  url  \\\n",
       "3   https://twitter.com/1302389542457159685/status...   \n",
       "5   https://twitter.com/15626578/status/1816211686...   \n",
       "6   https://twitter.com/78798396/status/1816204532...   \n",
       "7   https://twitter.com/78798396/status/1816204327...   \n",
       "11  https://twitter.com/106178430/status/181616523...   \n",
       "\n",
       "   has_retweeted_status_result  \n",
       "3                        False  \n",
       "5                        False  \n",
       "6                        False  \n",
       "7                        False  \n",
       "11                       False  \n",
       "\n",
       "[5 rows x 72 columns]"
      ]
     },
     "execution_count": 7,
     "metadata": {},
     "output_type": "execute_result"
    }
   ],
   "source": [
    "import pandas as pd\n",
    "\n",
    "data_df = pd.read_pickle('../costa_rica/data/Costa_rica_X.pkl')\n",
    "data_df.head()"
   ]
  },
  {
   "cell_type": "code",
   "execution_count": 8,
   "metadata": {},
   "outputs": [
    {
     "data": {
      "text/plain": [
       "Index(['bookmark_count', 'bookmarked', 'conversation_id_str', 'created_at',\n",
       "       'display_text_range', 'entities', 'favorite_count', 'favorited',\n",
       "       'full_text', 'is_quote_status', 'lang', 'quote_count', 'reply_count',\n",
       "       'retweet_count', 'retweeted', 'retweeted_status_result', 'user_id_str',\n",
       "       'status_id', 'extended_entities', 'possibly_sensitive',\n",
       "       'possibly_sensitive_editable', 'in_reply_to_screen_name',\n",
       "       'in_reply_to_status_id_str', 'in_reply_to_user_id_str', 'note_tweet',\n",
       "       'quoted_status_id_str', 'place', 'conversation_control', 'MW_Date',\n",
       "       'MW_Time', 'MW_Document ID', 'MW_URL', 'MW_Input Name', 'MW_Keywords',\n",
       "       'MW_Information Type', 'MW_Source Type', 'MW_Source Name',\n",
       "       'MW_Source Domain', 'MW_Content Type', 'MW_Author Name',\n",
       "       'MW_Author Handle', 'MW_Title', 'MW_Opening Text', 'MW_Hit Sentence',\n",
       "       'MW_Image', 'MW_Hashtags', 'MW_Links', 'MW_Country', 'MW_Region',\n",
       "       'MW_State', 'MW_City', 'MW_Language', 'MW_Sentiment', 'MW_Keyphrases',\n",
       "       'MW_Reach', 'MW_AVE', 'MW_Social Echo', 'MW_Editorial Echo',\n",
       "       'MW_Engagement', 'MW_Shares', 'MW_Quotes', 'MW_Likes', 'MW_Replies',\n",
       "       'MW_Reposts', 'MW_Comments', 'MW_Reactions', 'MW_Views',\n",
       "       'MW_Estimated Views', 'MW_Document Tags', 'post_type', 'url',\n",
       "       'has_retweeted_status_result'],\n",
       "      dtype='object')"
      ]
     },
     "execution_count": 8,
     "metadata": {},
     "output_type": "execute_result"
    }
   ],
   "source": [
    "data_df.columns"
   ]
  },
  {
   "cell_type": "code",
   "execution_count": 9,
   "metadata": {},
   "outputs": [
    {
     "data": {
      "text/plain": [
       "3     False\n",
       "5     False\n",
       "6     False\n",
       "7     False\n",
       "11    False\n",
       "Name: has_retweeted_status_result, dtype: bool"
      ]
     },
     "execution_count": 9,
     "metadata": {},
     "output_type": "execute_result"
    }
   ],
   "source": [
    "data_df.has_retweeted_status_result[:5]"
   ]
  },
  {
   "cell_type": "code",
   "execution_count": 10,
   "metadata": {},
   "outputs": [
    {
     "name": "stdout",
     "output_type": "stream",
     "text": [
      "Total rows 5444\n",
      "Empty text rows 0\n",
      "Unique text rows 3486\n"
     ]
    }
   ],
   "source": [
    "print('Total rows', data_df.shape[0])\n",
    "print('Empty text rows', data_df.full_text.isnull().sum())\n",
    "print('Unique text rows', data_df.full_text.nunique())"
   ]
  },
  {
   "cell_type": "code",
   "execution_count": 11,
   "metadata": {},
   "outputs": [
    {
     "name": "stdout",
     "output_type": "stream",
     "text": [
      "Unique rows 3486\n"
     ]
    }
   ],
   "source": [
    "## save pickle with cleaned data\n",
    "exp1_df = data_df.drop_duplicates(subset='full_text')\n",
    "print('Unique rows', exp1_df.shape[0])\n"
   ]
  },
  {
   "cell_type": "code",
   "execution_count": 13,
   "metadata": {},
   "outputs": [],
   "source": [
    "# save expiriment data\n",
    "exp1_df.to_pickle('../data/costa_rica_exp1.pkl')"
   ]
  },
  {
   "cell_type": "code",
   "execution_count": 19,
   "metadata": {},
   "outputs": [],
   "source": [
    "import os\n",
    "from dotenv import load_dotenv\n",
    "from openai import OpenAI as OpenAIclient\n",
    "from bertopic.backend import OpenAIBackend\n",
    "from utils.embedding import precompute_embeddings, read_embeddings\n",
    "\n",
    "load_dotenv()\n",
    "\n",
    "client = OpenAIclient(api_key=os.getenv('OPENAI_API_KEY'))\n",
    "embedding_model = OpenAIBackend(client, 'text-embedding-3-small', batch_size=1000)\n",
    "embedding_function = embedding_model.embed\n",
    "\n",
    "# precompute embeddings\n",
    "embeddings = precompute_embeddings(data_df = exp1_df,\n",
    "                                   text_col_name='full_text',\n",
    "                                   embedding_function=embedding_function,\n",
    "                                   output_file_path='../data/costa_rica_exp1_embeddings.npy')"
   ]
  },
  {
   "cell_type": "code",
   "execution_count": 20,
   "metadata": {},
   "outputs": [
    {
     "data": {
      "text/plain": [
       "array([[ 0.04628968,  0.01328233,  0.00646305, ...,  0.03969432,\n",
       "        -0.00095864,  0.01252916],\n",
       "       [ 0.02764316, -0.01576809,  0.01681836, ...,  0.02716704,\n",
       "         0.0169724 ,  0.00551743]])"
      ]
     },
     "execution_count": 20,
     "metadata": {},
     "output_type": "execute_result"
    }
   ],
   "source": [
    "embeddings[:2]"
   ]
  },
  {
   "cell_type": "code",
   "execution_count": 33,
   "metadata": {},
   "outputs": [
    {
     "name": "stderr",
     "output_type": "stream",
     "text": [
      "2024-07-31 15:45:47,043 - BERTopic - Dimensionality - Fitting the dimensionality reduction algorithm\n"
     ]
    }
   ],
   "source": [
    "from bertopic import BERTopic\n",
    "from nltk.corpus import stopwords\n",
    "from openai import OpenAI as OpenAIclient\n",
    "from bertopic.backend import OpenAIBackend\n",
    "from sklearn.feature_extraction.text import CountVectorizer\n",
    "from bertopic.representation import KeyBERTInspired, OpenAI, MaximalMarginalRelevance\n",
    "\n",
    "docs = exp1_df.full_text.to_list()\n",
    "\n",
    "# hyperparameters from coherence and diversity based experimentation\n",
    "params_list = [{'nr_topics': 15, 'min_topic_size': 15},\n",
    "               {'nr_topics': 15, 'min_topic_size': 50},\n",
    "               {'nr_topics': 15, 'min_topic_size': 100},\n",
    "               {'nr_topics': 50, 'min_topic_size': 10},\n",
    "               {'nr_topics': 100, 'min_topic_size': 100}]\n",
    "\n",
    "# lists to save the two resulting models\n",
    "models = []\n",
    "topics = []\n",
    "probs = []\n",
    "\n",
    "# initialize custom model components\n",
    "client = OpenAIclient(api_key=os.getenv('OPENAI_API_KEY'))\n",
    "embedding_model = OpenAIBackend(client, 'text-embedding-3-small', batch_size=1000)\n",
    "stop_words = stopwords.words(['english', 'spanish']) + ['https', 'http', 'www', 'com', 'org', 'net', 'edu', 'gov']\n",
    "vectorizer_model = CountVectorizer(ngram_range=(1, 2),stop_words=stop_words)\n",
    "main_representation = OpenAI(client, model='gpt-4o-2024-05-13', delay_in_seconds=5, chat=True)\n",
    "keyword_representation = KeyBERTInspired()\n",
    "keyword_sent_representation = [KeyBERTInspired(top_n_words=30), OpenAI(client, model='gpt-4o-2024-05-13', delay_in_seconds=10, chat=True)]\n",
    "\n",
    "\n",
    "representation_model = {\n",
    "   \"Main\": main_representation,\n",
    "   \"Keywords\":  keyword_representation,\n",
    "   \"MMR Keywords\":  keyword_sent_representation,\n",
    "}\n",
    "\n",
    "for params in params_list:\n",
    "\n",
    "    model = BERTopic(\n",
    "        embedding_model = embedding_model,\n",
    "        vectorizer_model = vectorizer_model,\n",
    "        representation_model = representation_model,\n",
    "        nr_topics = params['nr_topics'],\n",
    "        min_topic_size = params['min_topic_size'],\n",
    "        calculate_probabilities = True,\n",
    "        verbose = True\n",
    "    )\n",
    "\n",
    "    topic, prob = model.fit_transform(documents=docs, embeddings=embeddings)\n",
    "\n",
    "    print(f'nr_topics:       {params[\"nr_topics\"]}')\n",
    "    print(f'min_topic_size:  {params[\"min_topic_size\"]}')\n",
    "    print(f'num_outliers:    {model.get_topic_info(-1)[\"Count\"][0]}')\n",
    "\n",
    "    # save results\n",
    "    models.append(model)\n",
    "    topics.append(topic)\n",
    "    probs.append(prob)"
   ]
  },
  {
   "cell_type": "code",
   "execution_count": 24,
   "metadata": {},
   "outputs": [
    {
     "data": {
      "text/html": [
       "<div>\n",
       "<style scoped>\n",
       "    .dataframe tbody tr th:only-of-type {\n",
       "        vertical-align: middle;\n",
       "    }\n",
       "\n",
       "    .dataframe tbody tr th {\n",
       "        vertical-align: top;\n",
       "    }\n",
       "\n",
       "    .dataframe thead th {\n",
       "        text-align: right;\n",
       "    }\n",
       "</style>\n",
       "<table border=\"1\" class=\"dataframe\">\n",
       "  <thead>\n",
       "    <tr style=\"text-align: right;\">\n",
       "      <th></th>\n",
       "      <th>Topic</th>\n",
       "      <th>Count</th>\n",
       "      <th>Name</th>\n",
       "      <th>Representation</th>\n",
       "      <th>Representative_Docs</th>\n",
       "    </tr>\n",
       "  </thead>\n",
       "  <tbody>\n",
       "    <tr>\n",
       "      <th>0</th>\n",
       "      <td>-1</td>\n",
       "      <td>1363</td>\n",
       "      <td>-1_vacuna covid_vacunas covid_vacunación_vacunas</td>\n",
       "      <td>[vacuna covid, vacunas covid, vacunación, vacu...</td>\n",
       "      <td>[No sé si ya lo vieron (a mi me lo acaban de p...</td>\n",
       "    </tr>\n",
       "    <tr>\n",
       "      <th>1</th>\n",
       "      <td>0</td>\n",
       "      <td>1081</td>\n",
       "      <td>0_vacuna sarampión_vacunación_vacunas_vacuna a...</td>\n",
       "      <td>[vacuna sarampión, vacunación, vacunas, vacuna...</td>\n",
       "      <td>[Hemos aplicado 424 596 dosis de la vacuna con...</td>\n",
       "    </tr>\n",
       "    <tr>\n",
       "      <th>2</th>\n",
       "      <td>1</td>\n",
       "      <td>628</td>\n",
       "      <td>1_vacuna astrazeneca_astrazeneca_vacuna covid_...</td>\n",
       "      <td>[vacuna astrazeneca, astrazeneca, vacuna covid...</td>\n",
       "      <td>[AstraZeneca admite por primera vez que su vac...</td>\n",
       "    </tr>\n",
       "    <tr>\n",
       "      <th>3</th>\n",
       "      <td>2</td>\n",
       "      <td>59</td>\n",
       "      <td>2_pfizer pandemia_gates compró_millones dólare...</td>\n",
       "      <td>[pfizer pandemia, gates compró, millones dólar...</td>\n",
       "      <td>[🚨🚨Jimmy Dore MUESTRA como Bill Gates COMPRÓ 5...</td>\n",
       "    </tr>\n",
       "    <tr>\n",
       "      <th>4</th>\n",
       "      <td>3</td>\n",
       "      <td>53</td>\n",
       "      <td>3_pagar vacuna_vacunatorio vip_presidente_corr...</td>\n",
       "      <td>[pagar vacuna, vacunatorio vip, presidente, co...</td>\n",
       "      <td>[Mirá cómo quedaron los médicos que laburaron ...</td>\n",
       "    </tr>\n",
       "    <tr>\n",
       "      <th>5</th>\n",
       "      <td>4</td>\n",
       "      <td>52</td>\n",
       "      <td>4_judío si_descubrimiento judío_judío_filantró...</td>\n",
       "      <td>[judío si, descubrimiento judío, judío, filant...</td>\n",
       "      <td>[1/4\\n\\n🚨 Hay que castigar a Israel ‼️ \\n\\nVeo...</td>\n",
       "    </tr>\n",
       "    <tr>\n",
       "      <th>6</th>\n",
       "      <td>5</td>\n",
       "      <td>37</td>\n",
       "      <td>5_vacuna rusa_oncológicas vacuna_vacuna cáncer...</td>\n",
       "      <td>[vacuna rusa, oncológicas vacuna, vacuna cánce...</td>\n",
       "      <td>[#Mundo. Vacuna rusa contra el cáncer se proba...</td>\n",
       "    </tr>\n",
       "    <tr>\n",
       "      <th>7</th>\n",
       "      <td>6</td>\n",
       "      <td>36</td>\n",
       "      <td>6_adoptarla_canina_busca hogar_perros</td>\n",
       "      <td>[adoptarla, canina, busca hogar, perros, despa...</td>\n",
       "      <td>[Palmerita es una bebita Galgui mix\\nLa mamá e...</td>\n",
       "    </tr>\n",
       "    <tr>\n",
       "      <th>8</th>\n",
       "      <td>7</td>\n",
       "      <td>35</td>\n",
       "      <td>7_charlie_311201 co_charlie_311201_1bfeav3ydp ...</td>\n",
       "      <td>[charlie_311201 co, charlie_311201, 1bfeav3ydp...</td>\n",
       "      <td>[@95mpq https://t.co/1bfeAv3ydP, @AlanAmador64...</td>\n",
       "    </tr>\n",
       "    <tr>\n",
       "      <th>9</th>\n",
       "      <td>8</td>\n",
       "      <td>32</td>\n",
       "      <td>8_costa rica_influenza costa_vacuna covid_actu...</td>\n",
       "      <td>[costa rica, influenza costa, vacuna covid, ac...</td>\n",
       "      <td>[En Estados Unidos y en Europa hace un par de ...</td>\n",
       "    </tr>\n",
       "    <tr>\n",
       "      <th>10</th>\n",
       "      <td>9</td>\n",
       "      <td>29</td>\n",
       "      <td>9_punzadas mierdaaaaaa_mierdaaaaaa closs_mierd...</td>\n",
       "      <td>[punzadas mierdaaaaaa, mierdaaaaaa closs, mier...</td>\n",
       "      <td>[Que raro, vdd?\\nhttps://t.co/7wxoDOQBnA https...</td>\n",
       "    </tr>\n",
       "    <tr>\n",
       "      <th>11</th>\n",
       "      <td>10</td>\n",
       "      <td>23</td>\n",
       "      <td>10_requieren vacuna_fiebre amarilla_piden vacu...</td>\n",
       "      <td>[requieren vacuna, fiebre amarilla, piden vacu...</td>\n",
       "      <td>[Amigues necesito ayuda \\n\\nAún piden vacuna d...</td>\n",
       "    </tr>\n",
       "    <tr>\n",
       "      <th>12</th>\n",
       "      <td>11</td>\n",
       "      <td>22</td>\n",
       "      <td>11_ccssdecostarica msaludcr_ccssdecostarica ro...</td>\n",
       "      <td>[ccssdecostarica msaludcr, ccssdecostarica rod...</td>\n",
       "      <td>[@RodrigoChavesR \\n@CCSSdeCostaRica \\n????????...</td>\n",
       "    </tr>\n",
       "    <tr>\n",
       "      <th>13</th>\n",
       "      <td>12</td>\n",
       "      <td>21</td>\n",
       "      <td>12_carne vacuna_consumo carne_comer carne_carne</td>\n",
       "      <td>[carne vacuna, consumo carne, comer carne, car...</td>\n",
       "      <td>[Baja algo la media res vacuna, sigue igual el...</td>\n",
       "    </tr>\n",
       "    <tr>\n",
       "      <th>14</th>\n",
       "      <td>13</td>\n",
       "      <td>15</td>\n",
       "      <td>13_covid japón_salud japón_pfizer muertes_japó...</td>\n",
       "      <td>[covid japón, salud japón, pfizer muertes, jap...</td>\n",
       "      <td>[💣 ¡BOMBAZO! El Ministerio de Salud de Japón a...</td>\n",
       "    </tr>\n",
       "  </tbody>\n",
       "</table>\n",
       "</div>"
      ],
      "text/plain": [
       "    Topic  Count                                               Name  \\\n",
       "0      -1   1363   -1_vacuna covid_vacunas covid_vacunación_vacunas   \n",
       "1       0   1081  0_vacuna sarampión_vacunación_vacunas_vacuna a...   \n",
       "2       1    628  1_vacuna astrazeneca_astrazeneca_vacuna covid_...   \n",
       "3       2     59  2_pfizer pandemia_gates compró_millones dólare...   \n",
       "4       3     53  3_pagar vacuna_vacunatorio vip_presidente_corr...   \n",
       "5       4     52  4_judío si_descubrimiento judío_judío_filantró...   \n",
       "6       5     37  5_vacuna rusa_oncológicas vacuna_vacuna cáncer...   \n",
       "7       6     36              6_adoptarla_canina_busca hogar_perros   \n",
       "8       7     35  7_charlie_311201 co_charlie_311201_1bfeav3ydp ...   \n",
       "9       8     32  8_costa rica_influenza costa_vacuna covid_actu...   \n",
       "10      9     29  9_punzadas mierdaaaaaa_mierdaaaaaa closs_mierd...   \n",
       "11     10     23  10_requieren vacuna_fiebre amarilla_piden vacu...   \n",
       "12     11     22  11_ccssdecostarica msaludcr_ccssdecostarica ro...   \n",
       "13     12     21    12_carne vacuna_consumo carne_comer carne_carne   \n",
       "14     13     15  13_covid japón_salud japón_pfizer muertes_japó...   \n",
       "\n",
       "                                       Representation  \\\n",
       "0   [vacuna covid, vacunas covid, vacunación, vacu...   \n",
       "1   [vacuna sarampión, vacunación, vacunas, vacuna...   \n",
       "2   [vacuna astrazeneca, astrazeneca, vacuna covid...   \n",
       "3   [pfizer pandemia, gates compró, millones dólar...   \n",
       "4   [pagar vacuna, vacunatorio vip, presidente, co...   \n",
       "5   [judío si, descubrimiento judío, judío, filant...   \n",
       "6   [vacuna rusa, oncológicas vacuna, vacuna cánce...   \n",
       "7   [adoptarla, canina, busca hogar, perros, despa...   \n",
       "8   [charlie_311201 co, charlie_311201, 1bfeav3ydp...   \n",
       "9   [costa rica, influenza costa, vacuna covid, ac...   \n",
       "10  [punzadas mierdaaaaaa, mierdaaaaaa closs, mier...   \n",
       "11  [requieren vacuna, fiebre amarilla, piden vacu...   \n",
       "12  [ccssdecostarica msaludcr, ccssdecostarica rod...   \n",
       "13  [carne vacuna, consumo carne, comer carne, car...   \n",
       "14  [covid japón, salud japón, pfizer muertes, jap...   \n",
       "\n",
       "                                  Representative_Docs  \n",
       "0   [No sé si ya lo vieron (a mi me lo acaban de p...  \n",
       "1   [Hemos aplicado 424 596 dosis de la vacuna con...  \n",
       "2   [AstraZeneca admite por primera vez que su vac...  \n",
       "3   [🚨🚨Jimmy Dore MUESTRA como Bill Gates COMPRÓ 5...  \n",
       "4   [Mirá cómo quedaron los médicos que laburaron ...  \n",
       "5   [1/4\\n\\n🚨 Hay que castigar a Israel ‼️ \\n\\nVeo...  \n",
       "6   [#Mundo. Vacuna rusa contra el cáncer se proba...  \n",
       "7   [Palmerita es una bebita Galgui mix\\nLa mamá e...  \n",
       "8   [@95mpq https://t.co/1bfeAv3ydP, @AlanAmador64...  \n",
       "9   [En Estados Unidos y en Europa hace un par de ...  \n",
       "10  [Que raro, vdd?\\nhttps://t.co/7wxoDOQBnA https...  \n",
       "11  [Amigues necesito ayuda \\n\\nAún piden vacuna d...  \n",
       "12  [@RodrigoChavesR \\n@CCSSdeCostaRica \\n????????...  \n",
       "13  [Baja algo la media res vacuna, sigue igual el...  \n",
       "14  [💣 ¡BOMBAZO! El Ministerio de Salud de Japón a...  "
      ]
     },
     "execution_count": 24,
     "metadata": {},
     "output_type": "execute_result"
    }
   ],
   "source": [
    "models[0].get_topic_info()"
   ]
  },
  {
   "cell_type": "code",
   "execution_count": 25,
   "metadata": {},
   "outputs": [
    {
     "data": {
      "application/vnd.plotly.v1+json": {
       "config": {
        "plotlyServerURL": "https://plot.ly"
       },
       "data": [
        {
         "customdata": [
          [
           0,
           "vacuna sarampión | vacunación | vacunas | vacuna actualizada | vacuna covid",
           1081
          ],
          [
           1,
           "vacuna astrazeneca | astrazeneca | vacuna covid | efectos adversos | vacunas covid",
           628
          ],
          [
           2,
           "pfizer pandemia | gates compró | millones dólares | acciones pfizer | bill gates",
           59
          ],
          [
           3,
           "pagar vacuna | vacunatorio vip | presidente | corrupción | gobierno",
           53
          ],
          [
           4,
           "judío si | descubrimiento judío | judío | filantrópica vacuna | judíos",
           52
          ],
          [
           5,
           "vacuna rusa | oncológicas vacuna | vacuna cáncer | anuncia vacuna | rusa cáncer",
           37
          ],
          [
           6,
           "adoptarla | canina | busca hogar | perros | desparasitada",
           36
          ],
          [
           7,
           "charlie_311201 co | charlie_311201 | 1bfeav3ydp co | 1bfeav3ydp 95mpq | 1bfeav3ydp",
           35
          ],
          [
           8,
           "costa rica | influenza costa | vacuna covid | actualizada covid | costarica mientras",
           32
          ],
          [
           9,
           "punzadas mierdaaaaaa | mierdaaaaaa closs | mierdaaaaaa | ollas nooooo | puta veo",
           29
          ],
          [
           10,
           "requieren vacuna | fiebre amarilla | piden vacuna | vacuna fiebre | vacuna",
           23
          ],
          [
           11,
           "ccssdecostarica msaludcr | ccssdecostarica rodrigochavesr | defensoriacr ccssdecostarica | msaludcr ccssdecostarica | ccssdecostarica",
           22
          ],
          [
           12,
           "carne vacuna | consumo carne | comer carne | carne | ganadero",
           21
          ],
          [
           13,
           "covid japón | salud japón | pfizer muertes | japón co | japón admite",
           15
          ]
         ],
         "hovertemplate": "<b>Topic %{customdata[0]}</b><br>%{customdata[1]}<br>Size: %{customdata[2]}",
         "legendgroup": "",
         "marker": {
          "color": "#B0BEC5",
          "line": {
           "color": "DarkSlateGrey",
           "width": 2
          },
          "size": [
           1081,
           628,
           59,
           53,
           52,
           37,
           36,
           35,
           32,
           29,
           23,
           22,
           21,
           15
          ],
          "sizemode": "area",
          "sizeref": 0.675625,
          "symbol": "circle"
         },
         "mode": "markers",
         "name": "",
         "orientation": "v",
         "showlegend": false,
         "type": "scatter",
         "x": [
          -4.296042442321777,
          2.9773342609405518,
          3.574376344680786,
          -1.1790239810943604,
          -4.267507076263428,
          -3.4638149738311768,
          -4.04869270324707,
          -0.905308723449707,
          -3.7114338874816895,
          -0.4885329306125641,
          -2.684953212738037,
          -0.30139777064323425,
          -2.0765328407287598,
          3.1549553871154785
         ],
         "xaxis": "x",
         "y": [
          4.264863967895508,
          2.4765079021453857,
          2.5047574043273926,
          3.871821165084839,
          3.310969591140747,
          2.9326822757720947,
          3.7187180519104004,
          4.442961692810059,
          4.168508529663086,
          4.263851642608643,
          2.4291436672210693,
          4.587475776672363,
          3.176405906677246,
          2.1305911540985107
         ],
         "yaxis": "y"
        }
       ],
       "layout": {
        "annotations": [
         {
          "showarrow": false,
          "text": "D1",
          "x": -4.940448808670044,
          "y": 3.5432998120784758,
          "yshift": 10
         },
         {
          "showarrow": false,
          "text": "D2",
          "x": -0.41495800614357004,
          "xshift": 10,
          "y": 5.275597143173218
         }
        ],
        "height": 650,
        "hoverlabel": {
         "bgcolor": "white",
         "font": {
          "family": "Rockwell",
          "size": 16
         }
        },
        "legend": {
         "itemsizing": "constant",
         "tracegroupgap": 0
        },
        "margin": {
         "t": 60
        },
        "shapes": [
         {
          "line": {
           "color": "#CFD8DC",
           "width": 2
          },
          "type": "line",
          "x0": -0.41495800614357004,
          "x1": -0.41495800614357004,
          "y0": 1.8110024809837342,
          "y1": 5.275597143173218
         },
         {
          "line": {
           "color": "#9E9E9E",
           "width": 2
          },
          "type": "line",
          "x0": -4.940448808670044,
          "x1": 4.110532796382904,
          "y0": 3.5432998120784758,
          "y1": 3.5432998120784758
         }
        ],
        "sliders": [
         {
          "active": 0,
          "pad": {
           "t": 50
          },
          "steps": [
           {
            "args": [
             {
              "marker.color": [
               [
                "red",
                "#B0BEC5",
                "#B0BEC5",
                "#B0BEC5",
                "#B0BEC5",
                "#B0BEC5",
                "#B0BEC5",
                "#B0BEC5",
                "#B0BEC5",
                "#B0BEC5",
                "#B0BEC5",
                "#B0BEC5",
                "#B0BEC5",
                "#B0BEC5"
               ]
              ]
             }
            ],
            "label": "Topic 0",
            "method": "update"
           },
           {
            "args": [
             {
              "marker.color": [
               [
                "#B0BEC5",
                "red",
                "#B0BEC5",
                "#B0BEC5",
                "#B0BEC5",
                "#B0BEC5",
                "#B0BEC5",
                "#B0BEC5",
                "#B0BEC5",
                "#B0BEC5",
                "#B0BEC5",
                "#B0BEC5",
                "#B0BEC5",
                "#B0BEC5"
               ]
              ]
             }
            ],
            "label": "Topic 1",
            "method": "update"
           },
           {
            "args": [
             {
              "marker.color": [
               [
                "#B0BEC5",
                "#B0BEC5",
                "red",
                "#B0BEC5",
                "#B0BEC5",
                "#B0BEC5",
                "#B0BEC5",
                "#B0BEC5",
                "#B0BEC5",
                "#B0BEC5",
                "#B0BEC5",
                "#B0BEC5",
                "#B0BEC5",
                "#B0BEC5"
               ]
              ]
             }
            ],
            "label": "Topic 2",
            "method": "update"
           },
           {
            "args": [
             {
              "marker.color": [
               [
                "#B0BEC5",
                "#B0BEC5",
                "#B0BEC5",
                "red",
                "#B0BEC5",
                "#B0BEC5",
                "#B0BEC5",
                "#B0BEC5",
                "#B0BEC5",
                "#B0BEC5",
                "#B0BEC5",
                "#B0BEC5",
                "#B0BEC5",
                "#B0BEC5"
               ]
              ]
             }
            ],
            "label": "Topic 3",
            "method": "update"
           },
           {
            "args": [
             {
              "marker.color": [
               [
                "#B0BEC5",
                "#B0BEC5",
                "#B0BEC5",
                "#B0BEC5",
                "red",
                "#B0BEC5",
                "#B0BEC5",
                "#B0BEC5",
                "#B0BEC5",
                "#B0BEC5",
                "#B0BEC5",
                "#B0BEC5",
                "#B0BEC5",
                "#B0BEC5"
               ]
              ]
             }
            ],
            "label": "Topic 4",
            "method": "update"
           },
           {
            "args": [
             {
              "marker.color": [
               [
                "#B0BEC5",
                "#B0BEC5",
                "#B0BEC5",
                "#B0BEC5",
                "#B0BEC5",
                "red",
                "#B0BEC5",
                "#B0BEC5",
                "#B0BEC5",
                "#B0BEC5",
                "#B0BEC5",
                "#B0BEC5",
                "#B0BEC5",
                "#B0BEC5"
               ]
              ]
             }
            ],
            "label": "Topic 5",
            "method": "update"
           },
           {
            "args": [
             {
              "marker.color": [
               [
                "#B0BEC5",
                "#B0BEC5",
                "#B0BEC5",
                "#B0BEC5",
                "#B0BEC5",
                "#B0BEC5",
                "red",
                "#B0BEC5",
                "#B0BEC5",
                "#B0BEC5",
                "#B0BEC5",
                "#B0BEC5",
                "#B0BEC5",
                "#B0BEC5"
               ]
              ]
             }
            ],
            "label": "Topic 6",
            "method": "update"
           },
           {
            "args": [
             {
              "marker.color": [
               [
                "#B0BEC5",
                "#B0BEC5",
                "#B0BEC5",
                "#B0BEC5",
                "#B0BEC5",
                "#B0BEC5",
                "#B0BEC5",
                "red",
                "#B0BEC5",
                "#B0BEC5",
                "#B0BEC5",
                "#B0BEC5",
                "#B0BEC5",
                "#B0BEC5"
               ]
              ]
             }
            ],
            "label": "Topic 7",
            "method": "update"
           },
           {
            "args": [
             {
              "marker.color": [
               [
                "#B0BEC5",
                "#B0BEC5",
                "#B0BEC5",
                "#B0BEC5",
                "#B0BEC5",
                "#B0BEC5",
                "#B0BEC5",
                "#B0BEC5",
                "red",
                "#B0BEC5",
                "#B0BEC5",
                "#B0BEC5",
                "#B0BEC5",
                "#B0BEC5"
               ]
              ]
             }
            ],
            "label": "Topic 8",
            "method": "update"
           },
           {
            "args": [
             {
              "marker.color": [
               [
                "#B0BEC5",
                "#B0BEC5",
                "#B0BEC5",
                "#B0BEC5",
                "#B0BEC5",
                "#B0BEC5",
                "#B0BEC5",
                "#B0BEC5",
                "#B0BEC5",
                "red",
                "#B0BEC5",
                "#B0BEC5",
                "#B0BEC5",
                "#B0BEC5"
               ]
              ]
             }
            ],
            "label": "Topic 9",
            "method": "update"
           },
           {
            "args": [
             {
              "marker.color": [
               [
                "#B0BEC5",
                "#B0BEC5",
                "#B0BEC5",
                "#B0BEC5",
                "#B0BEC5",
                "#B0BEC5",
                "#B0BEC5",
                "#B0BEC5",
                "#B0BEC5",
                "#B0BEC5",
                "red",
                "#B0BEC5",
                "#B0BEC5",
                "#B0BEC5"
               ]
              ]
             }
            ],
            "label": "Topic 10",
            "method": "update"
           },
           {
            "args": [
             {
              "marker.color": [
               [
                "#B0BEC5",
                "#B0BEC5",
                "#B0BEC5",
                "#B0BEC5",
                "#B0BEC5",
                "#B0BEC5",
                "#B0BEC5",
                "#B0BEC5",
                "#B0BEC5",
                "#B0BEC5",
                "#B0BEC5",
                "red",
                "#B0BEC5",
                "#B0BEC5"
               ]
              ]
             }
            ],
            "label": "Topic 11",
            "method": "update"
           },
           {
            "args": [
             {
              "marker.color": [
               [
                "#B0BEC5",
                "#B0BEC5",
                "#B0BEC5",
                "#B0BEC5",
                "#B0BEC5",
                "#B0BEC5",
                "#B0BEC5",
                "#B0BEC5",
                "#B0BEC5",
                "#B0BEC5",
                "#B0BEC5",
                "#B0BEC5",
                "red",
                "#B0BEC5"
               ]
              ]
             }
            ],
            "label": "Topic 12",
            "method": "update"
           },
           {
            "args": [
             {
              "marker.color": [
               [
                "#B0BEC5",
                "#B0BEC5",
                "#B0BEC5",
                "#B0BEC5",
                "#B0BEC5",
                "#B0BEC5",
                "#B0BEC5",
                "#B0BEC5",
                "#B0BEC5",
                "#B0BEC5",
                "#B0BEC5",
                "#B0BEC5",
                "#B0BEC5",
                "red"
               ]
              ]
             }
            ],
            "label": "Topic 13",
            "method": "update"
           }
          ]
         }
        ],
        "template": {
         "data": {
          "bar": [
           {
            "error_x": {
             "color": "rgb(36,36,36)"
            },
            "error_y": {
             "color": "rgb(36,36,36)"
            },
            "marker": {
             "line": {
              "color": "white",
              "width": 0.5
             },
             "pattern": {
              "fillmode": "overlay",
              "size": 10,
              "solidity": 0.2
             }
            },
            "type": "bar"
           }
          ],
          "barpolar": [
           {
            "marker": {
             "line": {
              "color": "white",
              "width": 0.5
             },
             "pattern": {
              "fillmode": "overlay",
              "size": 10,
              "solidity": 0.2
             }
            },
            "type": "barpolar"
           }
          ],
          "carpet": [
           {
            "aaxis": {
             "endlinecolor": "rgb(36,36,36)",
             "gridcolor": "white",
             "linecolor": "white",
             "minorgridcolor": "white",
             "startlinecolor": "rgb(36,36,36)"
            },
            "baxis": {
             "endlinecolor": "rgb(36,36,36)",
             "gridcolor": "white",
             "linecolor": "white",
             "minorgridcolor": "white",
             "startlinecolor": "rgb(36,36,36)"
            },
            "type": "carpet"
           }
          ],
          "choropleth": [
           {
            "colorbar": {
             "outlinewidth": 1,
             "tickcolor": "rgb(36,36,36)",
             "ticks": "outside"
            },
            "type": "choropleth"
           }
          ],
          "contour": [
           {
            "colorbar": {
             "outlinewidth": 1,
             "tickcolor": "rgb(36,36,36)",
             "ticks": "outside"
            },
            "colorscale": [
             [
              0,
              "#440154"
             ],
             [
              0.1111111111111111,
              "#482878"
             ],
             [
              0.2222222222222222,
              "#3e4989"
             ],
             [
              0.3333333333333333,
              "#31688e"
             ],
             [
              0.4444444444444444,
              "#26828e"
             ],
             [
              0.5555555555555556,
              "#1f9e89"
             ],
             [
              0.6666666666666666,
              "#35b779"
             ],
             [
              0.7777777777777778,
              "#6ece58"
             ],
             [
              0.8888888888888888,
              "#b5de2b"
             ],
             [
              1,
              "#fde725"
             ]
            ],
            "type": "contour"
           }
          ],
          "contourcarpet": [
           {
            "colorbar": {
             "outlinewidth": 1,
             "tickcolor": "rgb(36,36,36)",
             "ticks": "outside"
            },
            "type": "contourcarpet"
           }
          ],
          "heatmap": [
           {
            "colorbar": {
             "outlinewidth": 1,
             "tickcolor": "rgb(36,36,36)",
             "ticks": "outside"
            },
            "colorscale": [
             [
              0,
              "#440154"
             ],
             [
              0.1111111111111111,
              "#482878"
             ],
             [
              0.2222222222222222,
              "#3e4989"
             ],
             [
              0.3333333333333333,
              "#31688e"
             ],
             [
              0.4444444444444444,
              "#26828e"
             ],
             [
              0.5555555555555556,
              "#1f9e89"
             ],
             [
              0.6666666666666666,
              "#35b779"
             ],
             [
              0.7777777777777778,
              "#6ece58"
             ],
             [
              0.8888888888888888,
              "#b5de2b"
             ],
             [
              1,
              "#fde725"
             ]
            ],
            "type": "heatmap"
           }
          ],
          "heatmapgl": [
           {
            "colorbar": {
             "outlinewidth": 1,
             "tickcolor": "rgb(36,36,36)",
             "ticks": "outside"
            },
            "colorscale": [
             [
              0,
              "#440154"
             ],
             [
              0.1111111111111111,
              "#482878"
             ],
             [
              0.2222222222222222,
              "#3e4989"
             ],
             [
              0.3333333333333333,
              "#31688e"
             ],
             [
              0.4444444444444444,
              "#26828e"
             ],
             [
              0.5555555555555556,
              "#1f9e89"
             ],
             [
              0.6666666666666666,
              "#35b779"
             ],
             [
              0.7777777777777778,
              "#6ece58"
             ],
             [
              0.8888888888888888,
              "#b5de2b"
             ],
             [
              1,
              "#fde725"
             ]
            ],
            "type": "heatmapgl"
           }
          ],
          "histogram": [
           {
            "marker": {
             "line": {
              "color": "white",
              "width": 0.6
             }
            },
            "type": "histogram"
           }
          ],
          "histogram2d": [
           {
            "colorbar": {
             "outlinewidth": 1,
             "tickcolor": "rgb(36,36,36)",
             "ticks": "outside"
            },
            "colorscale": [
             [
              0,
              "#440154"
             ],
             [
              0.1111111111111111,
              "#482878"
             ],
             [
              0.2222222222222222,
              "#3e4989"
             ],
             [
              0.3333333333333333,
              "#31688e"
             ],
             [
              0.4444444444444444,
              "#26828e"
             ],
             [
              0.5555555555555556,
              "#1f9e89"
             ],
             [
              0.6666666666666666,
              "#35b779"
             ],
             [
              0.7777777777777778,
              "#6ece58"
             ],
             [
              0.8888888888888888,
              "#b5de2b"
             ],
             [
              1,
              "#fde725"
             ]
            ],
            "type": "histogram2d"
           }
          ],
          "histogram2dcontour": [
           {
            "colorbar": {
             "outlinewidth": 1,
             "tickcolor": "rgb(36,36,36)",
             "ticks": "outside"
            },
            "colorscale": [
             [
              0,
              "#440154"
             ],
             [
              0.1111111111111111,
              "#482878"
             ],
             [
              0.2222222222222222,
              "#3e4989"
             ],
             [
              0.3333333333333333,
              "#31688e"
             ],
             [
              0.4444444444444444,
              "#26828e"
             ],
             [
              0.5555555555555556,
              "#1f9e89"
             ],
             [
              0.6666666666666666,
              "#35b779"
             ],
             [
              0.7777777777777778,
              "#6ece58"
             ],
             [
              0.8888888888888888,
              "#b5de2b"
             ],
             [
              1,
              "#fde725"
             ]
            ],
            "type": "histogram2dcontour"
           }
          ],
          "mesh3d": [
           {
            "colorbar": {
             "outlinewidth": 1,
             "tickcolor": "rgb(36,36,36)",
             "ticks": "outside"
            },
            "type": "mesh3d"
           }
          ],
          "parcoords": [
           {
            "line": {
             "colorbar": {
              "outlinewidth": 1,
              "tickcolor": "rgb(36,36,36)",
              "ticks": "outside"
             }
            },
            "type": "parcoords"
           }
          ],
          "pie": [
           {
            "automargin": true,
            "type": "pie"
           }
          ],
          "scatter": [
           {
            "fillpattern": {
             "fillmode": "overlay",
             "size": 10,
             "solidity": 0.2
            },
            "type": "scatter"
           }
          ],
          "scatter3d": [
           {
            "line": {
             "colorbar": {
              "outlinewidth": 1,
              "tickcolor": "rgb(36,36,36)",
              "ticks": "outside"
             }
            },
            "marker": {
             "colorbar": {
              "outlinewidth": 1,
              "tickcolor": "rgb(36,36,36)",
              "ticks": "outside"
             }
            },
            "type": "scatter3d"
           }
          ],
          "scattercarpet": [
           {
            "marker": {
             "colorbar": {
              "outlinewidth": 1,
              "tickcolor": "rgb(36,36,36)",
              "ticks": "outside"
             }
            },
            "type": "scattercarpet"
           }
          ],
          "scattergeo": [
           {
            "marker": {
             "colorbar": {
              "outlinewidth": 1,
              "tickcolor": "rgb(36,36,36)",
              "ticks": "outside"
             }
            },
            "type": "scattergeo"
           }
          ],
          "scattergl": [
           {
            "marker": {
             "colorbar": {
              "outlinewidth": 1,
              "tickcolor": "rgb(36,36,36)",
              "ticks": "outside"
             }
            },
            "type": "scattergl"
           }
          ],
          "scattermapbox": [
           {
            "marker": {
             "colorbar": {
              "outlinewidth": 1,
              "tickcolor": "rgb(36,36,36)",
              "ticks": "outside"
             }
            },
            "type": "scattermapbox"
           }
          ],
          "scatterpolar": [
           {
            "marker": {
             "colorbar": {
              "outlinewidth": 1,
              "tickcolor": "rgb(36,36,36)",
              "ticks": "outside"
             }
            },
            "type": "scatterpolar"
           }
          ],
          "scatterpolargl": [
           {
            "marker": {
             "colorbar": {
              "outlinewidth": 1,
              "tickcolor": "rgb(36,36,36)",
              "ticks": "outside"
             }
            },
            "type": "scatterpolargl"
           }
          ],
          "scatterternary": [
           {
            "marker": {
             "colorbar": {
              "outlinewidth": 1,
              "tickcolor": "rgb(36,36,36)",
              "ticks": "outside"
             }
            },
            "type": "scatterternary"
           }
          ],
          "surface": [
           {
            "colorbar": {
             "outlinewidth": 1,
             "tickcolor": "rgb(36,36,36)",
             "ticks": "outside"
            },
            "colorscale": [
             [
              0,
              "#440154"
             ],
             [
              0.1111111111111111,
              "#482878"
             ],
             [
              0.2222222222222222,
              "#3e4989"
             ],
             [
              0.3333333333333333,
              "#31688e"
             ],
             [
              0.4444444444444444,
              "#26828e"
             ],
             [
              0.5555555555555556,
              "#1f9e89"
             ],
             [
              0.6666666666666666,
              "#35b779"
             ],
             [
              0.7777777777777778,
              "#6ece58"
             ],
             [
              0.8888888888888888,
              "#b5de2b"
             ],
             [
              1,
              "#fde725"
             ]
            ],
            "type": "surface"
           }
          ],
          "table": [
           {
            "cells": {
             "fill": {
              "color": "rgb(237,237,237)"
             },
             "line": {
              "color": "white"
             }
            },
            "header": {
             "fill": {
              "color": "rgb(217,217,217)"
             },
             "line": {
              "color": "white"
             }
            },
            "type": "table"
           }
          ]
         },
         "layout": {
          "annotationdefaults": {
           "arrowhead": 0,
           "arrowwidth": 1
          },
          "autotypenumbers": "strict",
          "coloraxis": {
           "colorbar": {
            "outlinewidth": 1,
            "tickcolor": "rgb(36,36,36)",
            "ticks": "outside"
           }
          },
          "colorscale": {
           "diverging": [
            [
             0,
             "rgb(103,0,31)"
            ],
            [
             0.1,
             "rgb(178,24,43)"
            ],
            [
             0.2,
             "rgb(214,96,77)"
            ],
            [
             0.3,
             "rgb(244,165,130)"
            ],
            [
             0.4,
             "rgb(253,219,199)"
            ],
            [
             0.5,
             "rgb(247,247,247)"
            ],
            [
             0.6,
             "rgb(209,229,240)"
            ],
            [
             0.7,
             "rgb(146,197,222)"
            ],
            [
             0.8,
             "rgb(67,147,195)"
            ],
            [
             0.9,
             "rgb(33,102,172)"
            ],
            [
             1,
             "rgb(5,48,97)"
            ]
           ],
           "sequential": [
            [
             0,
             "#440154"
            ],
            [
             0.1111111111111111,
             "#482878"
            ],
            [
             0.2222222222222222,
             "#3e4989"
            ],
            [
             0.3333333333333333,
             "#31688e"
            ],
            [
             0.4444444444444444,
             "#26828e"
            ],
            [
             0.5555555555555556,
             "#1f9e89"
            ],
            [
             0.6666666666666666,
             "#35b779"
            ],
            [
             0.7777777777777778,
             "#6ece58"
            ],
            [
             0.8888888888888888,
             "#b5de2b"
            ],
            [
             1,
             "#fde725"
            ]
           ],
           "sequentialminus": [
            [
             0,
             "#440154"
            ],
            [
             0.1111111111111111,
             "#482878"
            ],
            [
             0.2222222222222222,
             "#3e4989"
            ],
            [
             0.3333333333333333,
             "#31688e"
            ],
            [
             0.4444444444444444,
             "#26828e"
            ],
            [
             0.5555555555555556,
             "#1f9e89"
            ],
            [
             0.6666666666666666,
             "#35b779"
            ],
            [
             0.7777777777777778,
             "#6ece58"
            ],
            [
             0.8888888888888888,
             "#b5de2b"
            ],
            [
             1,
             "#fde725"
            ]
           ]
          },
          "colorway": [
           "#1F77B4",
           "#FF7F0E",
           "#2CA02C",
           "#D62728",
           "#9467BD",
           "#8C564B",
           "#E377C2",
           "#7F7F7F",
           "#BCBD22",
           "#17BECF"
          ],
          "font": {
           "color": "rgb(36,36,36)"
          },
          "geo": {
           "bgcolor": "white",
           "lakecolor": "white",
           "landcolor": "white",
           "showlakes": true,
           "showland": true,
           "subunitcolor": "white"
          },
          "hoverlabel": {
           "align": "left"
          },
          "hovermode": "closest",
          "mapbox": {
           "style": "light"
          },
          "paper_bgcolor": "white",
          "plot_bgcolor": "white",
          "polar": {
           "angularaxis": {
            "gridcolor": "rgb(232,232,232)",
            "linecolor": "rgb(36,36,36)",
            "showgrid": false,
            "showline": true,
            "ticks": "outside"
           },
           "bgcolor": "white",
           "radialaxis": {
            "gridcolor": "rgb(232,232,232)",
            "linecolor": "rgb(36,36,36)",
            "showgrid": false,
            "showline": true,
            "ticks": "outside"
           }
          },
          "scene": {
           "xaxis": {
            "backgroundcolor": "white",
            "gridcolor": "rgb(232,232,232)",
            "gridwidth": 2,
            "linecolor": "rgb(36,36,36)",
            "showbackground": true,
            "showgrid": false,
            "showline": true,
            "ticks": "outside",
            "zeroline": false,
            "zerolinecolor": "rgb(36,36,36)"
           },
           "yaxis": {
            "backgroundcolor": "white",
            "gridcolor": "rgb(232,232,232)",
            "gridwidth": 2,
            "linecolor": "rgb(36,36,36)",
            "showbackground": true,
            "showgrid": false,
            "showline": true,
            "ticks": "outside",
            "zeroline": false,
            "zerolinecolor": "rgb(36,36,36)"
           },
           "zaxis": {
            "backgroundcolor": "white",
            "gridcolor": "rgb(232,232,232)",
            "gridwidth": 2,
            "linecolor": "rgb(36,36,36)",
            "showbackground": true,
            "showgrid": false,
            "showline": true,
            "ticks": "outside",
            "zeroline": false,
            "zerolinecolor": "rgb(36,36,36)"
           }
          },
          "shapedefaults": {
           "fillcolor": "black",
           "line": {
            "width": 0
           },
           "opacity": 0.3
          },
          "ternary": {
           "aaxis": {
            "gridcolor": "rgb(232,232,232)",
            "linecolor": "rgb(36,36,36)",
            "showgrid": false,
            "showline": true,
            "ticks": "outside"
           },
           "baxis": {
            "gridcolor": "rgb(232,232,232)",
            "linecolor": "rgb(36,36,36)",
            "showgrid": false,
            "showline": true,
            "ticks": "outside"
           },
           "bgcolor": "white",
           "caxis": {
            "gridcolor": "rgb(232,232,232)",
            "linecolor": "rgb(36,36,36)",
            "showgrid": false,
            "showline": true,
            "ticks": "outside"
           }
          },
          "title": {
           "x": 0.05
          },
          "xaxis": {
           "automargin": true,
           "gridcolor": "rgb(232,232,232)",
           "linecolor": "rgb(36,36,36)",
           "showgrid": false,
           "showline": true,
           "ticks": "outside",
           "title": {
            "standoff": 15
           },
           "zeroline": false,
           "zerolinecolor": "rgb(36,36,36)"
          },
          "yaxis": {
           "automargin": true,
           "gridcolor": "rgb(232,232,232)",
           "linecolor": "rgb(36,36,36)",
           "showgrid": false,
           "showline": true,
           "ticks": "outside",
           "title": {
            "standoff": 15
           },
           "zeroline": false,
           "zerolinecolor": "rgb(36,36,36)"
          }
         }
        },
        "title": {
         "font": {
          "color": "Black",
          "size": 22
         },
         "text": "<b>Intertopic Distance Map</b>",
         "x": 0.5,
         "xanchor": "center",
         "y": 0.95,
         "yanchor": "top"
        },
        "width": 650,
        "xaxis": {
         "anchor": "y",
         "domain": [
          0,
          1
         ],
         "range": [
          -4.940448808670044,
          4.110532796382904
         ],
         "title": {
          "text": ""
         },
         "visible": false
        },
        "yaxis": {
         "anchor": "x",
         "domain": [
          0,
          1
         ],
         "range": [
          1.8110024809837342,
          5.275597143173218
         ],
         "title": {
          "text": ""
         },
         "visible": false
        }
       }
      }
     },
     "metadata": {},
     "output_type": "display_data"
    }
   ],
   "source": [
    "models[0].visualize_topics()"
   ]
  },
  {
   "cell_type": "code",
   "execution_count": 31,
   "metadata": {},
   "outputs": [
    {
     "name": "stderr",
     "output_type": "stream",
     "text": [
      "100%|██████████| 4/4 [00:04<00:00,  1.20s/it]\n"
     ]
    },
    {
     "data": {
      "application/vnd.plotly.v1+json": {
       "config": {
        "plotlyServerURL": "https://plot.ly"
       },
       "data": [
        {
         "hoverinfo": "text",
         "marker": {
          "color": "rgb(61,153,112)"
         },
         "mode": "lines",
         "text": [
          "vacuna covid_anti vacunas_puse vacuna_vacuna_vacunas",
          "",
          "",
          "vacunas covid_vacuna covid_efectos adversos_vacunas_vacunación"
         ],
         "type": "scatter",
         "x": [
          0,
          0.4853903754777684,
          0.4853903754777684,
          0
         ],
         "xaxis": "x",
         "y": [
          -25,
          -25,
          -35,
          -35
         ],
         "yaxis": "y"
        },
        {
         "hoverinfo": "text",
         "marker": {
          "color": "rgb(61,153,112)"
         },
         "mode": "lines",
         "text": [
          "vacuna sarampión_sarampión rubéola_vacuna actualizada_vacunas_vacunación",
          "",
          "",
          "vacuna covid_vacunas covid_vacuna pfizer_antivacunas_vacunación"
         ],
         "type": "scatter",
         "x": [
          0,
          0.54515085349608,
          0.54515085349608,
          0.4853903754777684
         ],
         "xaxis": "x",
         "y": [
          -15,
          -15,
          -30,
          -30
         ],
         "yaxis": "y"
        },
        {
         "hoverinfo": "text",
         "marker": {
          "color": "rgb(61,153,112)"
         },
         "mode": "lines",
         "text": [
          "vacuna covid_vacunas covid_vacunas_antivacunas_vacunación",
          "",
          "",
          "astrazeneca admite_astrazeneca retira_vacuna astrazeneca_covid astrazeneca_astrazeneca"
         ],
         "type": "scatter",
         "x": [
          0.54515085349608,
          0.6766724026980803,
          0.6766724026980803,
          0
         ],
         "xaxis": "x",
         "y": [
          -22.5,
          -22.5,
          -45,
          -45
         ],
         "yaxis": "y"
        },
        {
         "hoverinfo": "text",
         "marker": {
          "color": "rgb(61,153,112)"
         },
         "mode": "lines",
         "text": [
          "dengue vacuna_vacunas dengue_vacuna dengue_dengue obligatoria_repelente vacuna",
          "",
          "",
          "vacuna covid_vacunas covid_antivacunas_vacunación_vacunas"
         ],
         "type": "scatter",
         "x": [
          0,
          0.8463172275055288,
          0.8463172275055288,
          0.6766724026980803
         ],
         "xaxis": "x",
         "y": [
          -5,
          -5,
          -33.75,
          -33.75
         ],
         "yaxis": "y"
        },
        {
         "hoverinfo": "text",
         "hovertext": [
          "vacuna covid_vacunas covid_vacunas_antivacunas_vacunación"
         ],
         "marker": {
          "color": "black"
         },
         "mode": "markers",
         "showlegend": false,
         "type": "scatter",
         "x": [
          0.54515085349608
         ],
         "y": [
          -22.5
         ]
        },
        {
         "hoverinfo": "text",
         "hovertext": [
          "vacuna covid_vacunas covid_vacuna pfizer_antivacunas_vacunación",
          "vacuna covid_vacunas covid_antivacunas_vacunación_vacunas"
         ],
         "marker": {
          "color": "black"
         },
         "mode": "markers",
         "showlegend": false,
         "type": "scatter",
         "x": [
          0.4853903754777684,
          0.6766724026980803
         ],
         "y": [
          -30,
          -33.75
         ]
        }
       ],
       "layout": {
        "autosize": false,
        "height": 275,
        "hoverlabel": {
         "bgcolor": "white",
         "font": {
          "family": "Rockwell",
          "size": 16
         }
        },
        "hovermode": "closest",
        "plot_bgcolor": "#ECEFF1",
        "showlegend": false,
        "template": {
         "data": {
          "bar": [
           {
            "error_x": {
             "color": "#2a3f5f"
            },
            "error_y": {
             "color": "#2a3f5f"
            },
            "marker": {
             "line": {
              "color": "white",
              "width": 0.5
             },
             "pattern": {
              "fillmode": "overlay",
              "size": 10,
              "solidity": 0.2
             }
            },
            "type": "bar"
           }
          ],
          "barpolar": [
           {
            "marker": {
             "line": {
              "color": "white",
              "width": 0.5
             },
             "pattern": {
              "fillmode": "overlay",
              "size": 10,
              "solidity": 0.2
             }
            },
            "type": "barpolar"
           }
          ],
          "carpet": [
           {
            "aaxis": {
             "endlinecolor": "#2a3f5f",
             "gridcolor": "#C8D4E3",
             "linecolor": "#C8D4E3",
             "minorgridcolor": "#C8D4E3",
             "startlinecolor": "#2a3f5f"
            },
            "baxis": {
             "endlinecolor": "#2a3f5f",
             "gridcolor": "#C8D4E3",
             "linecolor": "#C8D4E3",
             "minorgridcolor": "#C8D4E3",
             "startlinecolor": "#2a3f5f"
            },
            "type": "carpet"
           }
          ],
          "choropleth": [
           {
            "colorbar": {
             "outlinewidth": 0,
             "ticks": ""
            },
            "type": "choropleth"
           }
          ],
          "contour": [
           {
            "colorbar": {
             "outlinewidth": 0,
             "ticks": ""
            },
            "colorscale": [
             [
              0,
              "#0d0887"
             ],
             [
              0.1111111111111111,
              "#46039f"
             ],
             [
              0.2222222222222222,
              "#7201a8"
             ],
             [
              0.3333333333333333,
              "#9c179e"
             ],
             [
              0.4444444444444444,
              "#bd3786"
             ],
             [
              0.5555555555555556,
              "#d8576b"
             ],
             [
              0.6666666666666666,
              "#ed7953"
             ],
             [
              0.7777777777777778,
              "#fb9f3a"
             ],
             [
              0.8888888888888888,
              "#fdca26"
             ],
             [
              1,
              "#f0f921"
             ]
            ],
            "type": "contour"
           }
          ],
          "contourcarpet": [
           {
            "colorbar": {
             "outlinewidth": 0,
             "ticks": ""
            },
            "type": "contourcarpet"
           }
          ],
          "heatmap": [
           {
            "colorbar": {
             "outlinewidth": 0,
             "ticks": ""
            },
            "colorscale": [
             [
              0,
              "#0d0887"
             ],
             [
              0.1111111111111111,
              "#46039f"
             ],
             [
              0.2222222222222222,
              "#7201a8"
             ],
             [
              0.3333333333333333,
              "#9c179e"
             ],
             [
              0.4444444444444444,
              "#bd3786"
             ],
             [
              0.5555555555555556,
              "#d8576b"
             ],
             [
              0.6666666666666666,
              "#ed7953"
             ],
             [
              0.7777777777777778,
              "#fb9f3a"
             ],
             [
              0.8888888888888888,
              "#fdca26"
             ],
             [
              1,
              "#f0f921"
             ]
            ],
            "type": "heatmap"
           }
          ],
          "heatmapgl": [
           {
            "colorbar": {
             "outlinewidth": 0,
             "ticks": ""
            },
            "colorscale": [
             [
              0,
              "#0d0887"
             ],
             [
              0.1111111111111111,
              "#46039f"
             ],
             [
              0.2222222222222222,
              "#7201a8"
             ],
             [
              0.3333333333333333,
              "#9c179e"
             ],
             [
              0.4444444444444444,
              "#bd3786"
             ],
             [
              0.5555555555555556,
              "#d8576b"
             ],
             [
              0.6666666666666666,
              "#ed7953"
             ],
             [
              0.7777777777777778,
              "#fb9f3a"
             ],
             [
              0.8888888888888888,
              "#fdca26"
             ],
             [
              1,
              "#f0f921"
             ]
            ],
            "type": "heatmapgl"
           }
          ],
          "histogram": [
           {
            "marker": {
             "pattern": {
              "fillmode": "overlay",
              "size": 10,
              "solidity": 0.2
             }
            },
            "type": "histogram"
           }
          ],
          "histogram2d": [
           {
            "colorbar": {
             "outlinewidth": 0,
             "ticks": ""
            },
            "colorscale": [
             [
              0,
              "#0d0887"
             ],
             [
              0.1111111111111111,
              "#46039f"
             ],
             [
              0.2222222222222222,
              "#7201a8"
             ],
             [
              0.3333333333333333,
              "#9c179e"
             ],
             [
              0.4444444444444444,
              "#bd3786"
             ],
             [
              0.5555555555555556,
              "#d8576b"
             ],
             [
              0.6666666666666666,
              "#ed7953"
             ],
             [
              0.7777777777777778,
              "#fb9f3a"
             ],
             [
              0.8888888888888888,
              "#fdca26"
             ],
             [
              1,
              "#f0f921"
             ]
            ],
            "type": "histogram2d"
           }
          ],
          "histogram2dcontour": [
           {
            "colorbar": {
             "outlinewidth": 0,
             "ticks": ""
            },
            "colorscale": [
             [
              0,
              "#0d0887"
             ],
             [
              0.1111111111111111,
              "#46039f"
             ],
             [
              0.2222222222222222,
              "#7201a8"
             ],
             [
              0.3333333333333333,
              "#9c179e"
             ],
             [
              0.4444444444444444,
              "#bd3786"
             ],
             [
              0.5555555555555556,
              "#d8576b"
             ],
             [
              0.6666666666666666,
              "#ed7953"
             ],
             [
              0.7777777777777778,
              "#fb9f3a"
             ],
             [
              0.8888888888888888,
              "#fdca26"
             ],
             [
              1,
              "#f0f921"
             ]
            ],
            "type": "histogram2dcontour"
           }
          ],
          "mesh3d": [
           {
            "colorbar": {
             "outlinewidth": 0,
             "ticks": ""
            },
            "type": "mesh3d"
           }
          ],
          "parcoords": [
           {
            "line": {
             "colorbar": {
              "outlinewidth": 0,
              "ticks": ""
             }
            },
            "type": "parcoords"
           }
          ],
          "pie": [
           {
            "automargin": true,
            "type": "pie"
           }
          ],
          "scatter": [
           {
            "fillpattern": {
             "fillmode": "overlay",
             "size": 10,
             "solidity": 0.2
            },
            "type": "scatter"
           }
          ],
          "scatter3d": [
           {
            "line": {
             "colorbar": {
              "outlinewidth": 0,
              "ticks": ""
             }
            },
            "marker": {
             "colorbar": {
              "outlinewidth": 0,
              "ticks": ""
             }
            },
            "type": "scatter3d"
           }
          ],
          "scattercarpet": [
           {
            "marker": {
             "colorbar": {
              "outlinewidth": 0,
              "ticks": ""
             }
            },
            "type": "scattercarpet"
           }
          ],
          "scattergeo": [
           {
            "marker": {
             "colorbar": {
              "outlinewidth": 0,
              "ticks": ""
             }
            },
            "type": "scattergeo"
           }
          ],
          "scattergl": [
           {
            "marker": {
             "colorbar": {
              "outlinewidth": 0,
              "ticks": ""
             }
            },
            "type": "scattergl"
           }
          ],
          "scattermapbox": [
           {
            "marker": {
             "colorbar": {
              "outlinewidth": 0,
              "ticks": ""
             }
            },
            "type": "scattermapbox"
           }
          ],
          "scatterpolar": [
           {
            "marker": {
             "colorbar": {
              "outlinewidth": 0,
              "ticks": ""
             }
            },
            "type": "scatterpolar"
           }
          ],
          "scatterpolargl": [
           {
            "marker": {
             "colorbar": {
              "outlinewidth": 0,
              "ticks": ""
             }
            },
            "type": "scatterpolargl"
           }
          ],
          "scatterternary": [
           {
            "marker": {
             "colorbar": {
              "outlinewidth": 0,
              "ticks": ""
             }
            },
            "type": "scatterternary"
           }
          ],
          "surface": [
           {
            "colorbar": {
             "outlinewidth": 0,
             "ticks": ""
            },
            "colorscale": [
             [
              0,
              "#0d0887"
             ],
             [
              0.1111111111111111,
              "#46039f"
             ],
             [
              0.2222222222222222,
              "#7201a8"
             ],
             [
              0.3333333333333333,
              "#9c179e"
             ],
             [
              0.4444444444444444,
              "#bd3786"
             ],
             [
              0.5555555555555556,
              "#d8576b"
             ],
             [
              0.6666666666666666,
              "#ed7953"
             ],
             [
              0.7777777777777778,
              "#fb9f3a"
             ],
             [
              0.8888888888888888,
              "#fdca26"
             ],
             [
              1,
              "#f0f921"
             ]
            ],
            "type": "surface"
           }
          ],
          "table": [
           {
            "cells": {
             "fill": {
              "color": "#EBF0F8"
             },
             "line": {
              "color": "white"
             }
            },
            "header": {
             "fill": {
              "color": "#C8D4E3"
             },
             "line": {
              "color": "white"
             }
            },
            "type": "table"
           }
          ]
         },
         "layout": {
          "annotationdefaults": {
           "arrowcolor": "#2a3f5f",
           "arrowhead": 0,
           "arrowwidth": 1
          },
          "autotypenumbers": "strict",
          "coloraxis": {
           "colorbar": {
            "outlinewidth": 0,
            "ticks": ""
           }
          },
          "colorscale": {
           "diverging": [
            [
             0,
             "#8e0152"
            ],
            [
             0.1,
             "#c51b7d"
            ],
            [
             0.2,
             "#de77ae"
            ],
            [
             0.3,
             "#f1b6da"
            ],
            [
             0.4,
             "#fde0ef"
            ],
            [
             0.5,
             "#f7f7f7"
            ],
            [
             0.6,
             "#e6f5d0"
            ],
            [
             0.7,
             "#b8e186"
            ],
            [
             0.8,
             "#7fbc41"
            ],
            [
             0.9,
             "#4d9221"
            ],
            [
             1,
             "#276419"
            ]
           ],
           "sequential": [
            [
             0,
             "#0d0887"
            ],
            [
             0.1111111111111111,
             "#46039f"
            ],
            [
             0.2222222222222222,
             "#7201a8"
            ],
            [
             0.3333333333333333,
             "#9c179e"
            ],
            [
             0.4444444444444444,
             "#bd3786"
            ],
            [
             0.5555555555555556,
             "#d8576b"
            ],
            [
             0.6666666666666666,
             "#ed7953"
            ],
            [
             0.7777777777777778,
             "#fb9f3a"
            ],
            [
             0.8888888888888888,
             "#fdca26"
            ],
            [
             1,
             "#f0f921"
            ]
           ],
           "sequentialminus": [
            [
             0,
             "#0d0887"
            ],
            [
             0.1111111111111111,
             "#46039f"
            ],
            [
             0.2222222222222222,
             "#7201a8"
            ],
            [
             0.3333333333333333,
             "#9c179e"
            ],
            [
             0.4444444444444444,
             "#bd3786"
            ],
            [
             0.5555555555555556,
             "#d8576b"
            ],
            [
             0.6666666666666666,
             "#ed7953"
            ],
            [
             0.7777777777777778,
             "#fb9f3a"
            ],
            [
             0.8888888888888888,
             "#fdca26"
            ],
            [
             1,
             "#f0f921"
            ]
           ]
          },
          "colorway": [
           "#636efa",
           "#EF553B",
           "#00cc96",
           "#ab63fa",
           "#FFA15A",
           "#19d3f3",
           "#FF6692",
           "#B6E880",
           "#FF97FF",
           "#FECB52"
          ],
          "font": {
           "color": "#2a3f5f"
          },
          "geo": {
           "bgcolor": "white",
           "lakecolor": "white",
           "landcolor": "white",
           "showlakes": true,
           "showland": true,
           "subunitcolor": "#C8D4E3"
          },
          "hoverlabel": {
           "align": "left"
          },
          "hovermode": "closest",
          "mapbox": {
           "style": "light"
          },
          "paper_bgcolor": "white",
          "plot_bgcolor": "white",
          "polar": {
           "angularaxis": {
            "gridcolor": "#EBF0F8",
            "linecolor": "#EBF0F8",
            "ticks": ""
           },
           "bgcolor": "white",
           "radialaxis": {
            "gridcolor": "#EBF0F8",
            "linecolor": "#EBF0F8",
            "ticks": ""
           }
          },
          "scene": {
           "xaxis": {
            "backgroundcolor": "white",
            "gridcolor": "#DFE8F3",
            "gridwidth": 2,
            "linecolor": "#EBF0F8",
            "showbackground": true,
            "ticks": "",
            "zerolinecolor": "#EBF0F8"
           },
           "yaxis": {
            "backgroundcolor": "white",
            "gridcolor": "#DFE8F3",
            "gridwidth": 2,
            "linecolor": "#EBF0F8",
            "showbackground": true,
            "ticks": "",
            "zerolinecolor": "#EBF0F8"
           },
           "zaxis": {
            "backgroundcolor": "white",
            "gridcolor": "#DFE8F3",
            "gridwidth": 2,
            "linecolor": "#EBF0F8",
            "showbackground": true,
            "ticks": "",
            "zerolinecolor": "#EBF0F8"
           }
          },
          "shapedefaults": {
           "line": {
            "color": "#2a3f5f"
           }
          },
          "ternary": {
           "aaxis": {
            "gridcolor": "#DFE8F3",
            "linecolor": "#A2B1C6",
            "ticks": ""
           },
           "baxis": {
            "gridcolor": "#DFE8F3",
            "linecolor": "#A2B1C6",
            "ticks": ""
           },
           "bgcolor": "white",
           "caxis": {
            "gridcolor": "#DFE8F3",
            "linecolor": "#A2B1C6",
            "ticks": ""
           }
          },
          "title": {
           "x": 0.05
          },
          "xaxis": {
           "automargin": true,
           "gridcolor": "#EBF0F8",
           "linecolor": "#EBF0F8",
           "ticks": "",
           "title": {
            "standoff": 15
           },
           "zerolinecolor": "#EBF0F8",
           "zerolinewidth": 2
          },
          "yaxis": {
           "automargin": true,
           "gridcolor": "#EBF0F8",
           "linecolor": "#EBF0F8",
           "ticks": "",
           "title": {
            "standoff": 15
           },
           "zerolinecolor": "#EBF0F8",
           "zerolinewidth": 2
          }
         }
        },
        "title": {
         "font": {
          "color": "Black",
          "size": 22
         },
         "text": "<b>Hierarchical Clustering</b>",
         "x": 0.5,
         "xanchor": "center",
         "yanchor": "top"
        },
        "width": 1000,
        "xaxis": {
         "mirror": "allticks",
         "rangemode": "tozero",
         "showgrid": false,
         "showline": true,
         "showticklabels": true,
         "ticks": "outside",
         "type": "linear",
         "zeroline": false
        },
        "yaxis": {
         "mirror": "allticks",
         "range": [
          -50,
          0
         ],
         "rangemode": "tozero",
         "showgrid": false,
         "showline": true,
         "showticklabels": true,
         "tickmode": "array",
         "ticks": "outside",
         "ticktext": [
          "1_dengue vacuna_vacunas den...",
          "2_vacuna sarampión_sarampió...",
          "4_vacuna covid_anti vacunas...",
          "3_vacunas covid_vacuna covi...",
          "0_astrazeneca admite_astraz..."
         ],
         "tickvals": [
          -5,
          -15,
          -25,
          -35,
          -45
         ],
         "type": "linear",
         "zeroline": false
        }
       }
      }
     },
     "metadata": {},
     "output_type": "display_data"
    }
   ],
   "source": [
    "hierarchical_topics = models[4].hierarchical_topics(docs)\n",
    "tree_1 = models[4].visualize_hierarchy(hierarchical_topics=hierarchical_topics)\n",
    "tree_1.show()\n",
    "try:\n",
    "    tree_1.write_html('../data/costa_rica_exp1/hierarchical_tree_5.html')\n",
    "except FileNotFoundError:\n",
    "    os.mkdir('../data/costa_rica_exp1')\n",
    "    tree_1.write_html('../data/costa_rica_exp1/hierarchical_tree_1.html')"
   ]
  },
  {
   "cell_type": "code",
   "execution_count": null,
   "metadata": {},
   "outputs": [],
   "source": []
  }
 ],
 "metadata": {
  "kernelspec": {
   "display_name": "Topic_Modeling-_FkilTJX",
   "language": "python",
   "name": "python3"
  },
  "language_info": {
   "codemirror_mode": {
    "name": "ipython",
    "version": 3
   },
   "file_extension": ".py",
   "mimetype": "text/x-python",
   "name": "python",
   "nbconvert_exporter": "python",
   "pygments_lexer": "ipython3",
   "version": "3.9.6"
  }
 },
 "nbformat": 4,
 "nbformat_minor": 2
}
