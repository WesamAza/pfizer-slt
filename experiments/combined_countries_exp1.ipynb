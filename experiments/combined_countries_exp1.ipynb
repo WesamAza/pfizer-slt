{
 "cells": [
  {
   "cell_type": "code",
   "execution_count": 1,
   "metadata": {},
   "outputs": [],
   "source": [
    "import os, sys\n",
    "parent_folder_path = os.path.abspath(os.path.join(os.getcwd(), os.pardir))\n",
    "sys.path.append(parent_folder_path)"
   ]
  },
  {
   "cell_type": "code",
   "execution_count": 2,
   "metadata": {},
   "outputs": [
    {
     "data": {
      "text/html": [
       "<div>\n",
       "<style scoped>\n",
       "    .dataframe tbody tr th:only-of-type {\n",
       "        vertical-align: middle;\n",
       "    }\n",
       "\n",
       "    .dataframe tbody tr th {\n",
       "        vertical-align: top;\n",
       "    }\n",
       "\n",
       "    .dataframe thead th {\n",
       "        text-align: right;\n",
       "    }\n",
       "</style>\n",
       "<table border=\"1\" class=\"dataframe\">\n",
       "  <thead>\n",
       "    <tr style=\"text-align: right;\">\n",
       "      <th></th>\n",
       "      <th>bookmark_count</th>\n",
       "      <th>bookmarked</th>\n",
       "      <th>conversation_id_str</th>\n",
       "      <th>created_at</th>\n",
       "      <th>display_text_range</th>\n",
       "      <th>entities</th>\n",
       "      <th>favorite_count</th>\n",
       "      <th>favorited</th>\n",
       "      <th>full_text</th>\n",
       "      <th>is_quote_status</th>\n",
       "      <th>...</th>\n",
       "      <th>MW_Reposts</th>\n",
       "      <th>MW_Comments</th>\n",
       "      <th>MW_Reactions</th>\n",
       "      <th>MW_Views</th>\n",
       "      <th>MW_Estimated Views</th>\n",
       "      <th>MW_Document Tags</th>\n",
       "      <th>post_type</th>\n",
       "      <th>url</th>\n",
       "      <th>has_retweeted_status_result</th>\n",
       "      <th>original_rest_id</th>\n",
       "    </tr>\n",
       "  </thead>\n",
       "  <tbody>\n",
       "    <tr>\n",
       "      <th>3</th>\n",
       "      <td>0</td>\n",
       "      <td>False</td>\n",
       "      <td>1816217080397455588</td>\n",
       "      <td>Wed Jul 24 21:01:10 +0000 2024</td>\n",
       "      <td>[0, 276]</td>\n",
       "      <td>{'hashtags': [], 'symbols': [], 'timestamps': ...</td>\n",
       "      <td>3</td>\n",
       "      <td>False</td>\n",
       "      <td>Algunos padres están alarmados por nuevas circ...</td>\n",
       "      <td>False</td>\n",
       "      <td>...</td>\n",
       "      <td>NaN</td>\n",
       "      <td>NaN</td>\n",
       "      <td>3.0</td>\n",
       "      <td>15.0</td>\n",
       "      <td>NaN</td>\n",
       "      <td>NaN</td>\n",
       "      <td>Post</td>\n",
       "      <td>https://twitter.com/1302389542457159685/status...</td>\n",
       "      <td>False</td>\n",
       "      <td>NaN</td>\n",
       "    </tr>\n",
       "    <tr>\n",
       "      <th>5</th>\n",
       "      <td>0</td>\n",
       "      <td>False</td>\n",
       "      <td>1816201806252490955</td>\n",
       "      <td>Wed Jul 24 20:39:44 +0000 2024</td>\n",
       "      <td>[5, 72]</td>\n",
       "      <td>{'hashtags': [], 'symbols': [], 'timestamps': ...</td>\n",
       "      <td>0</td>\n",
       "      <td>False</td>\n",
       "      <td>@T13 .\\nTodos extranjeros no pago vacuna algun...</td>\n",
       "      <td>False</td>\n",
       "      <td>...</td>\n",
       "      <td>NaN</td>\n",
       "      <td>NaN</td>\n",
       "      <td>NaN</td>\n",
       "      <td>1.0</td>\n",
       "      <td>NaN</td>\n",
       "      <td>NaN</td>\n",
       "      <td>Comment</td>\n",
       "      <td>https://twitter.com/15626578/status/1816211686...</td>\n",
       "      <td>False</td>\n",
       "      <td>NaN</td>\n",
       "    </tr>\n",
       "    <tr>\n",
       "      <th>6</th>\n",
       "      <td>0</td>\n",
       "      <td>False</td>\n",
       "      <td>1815161737496134018</td>\n",
       "      <td>Wed Jul 24 20:11:18 +0000 2024</td>\n",
       "      <td>[53, 171]</td>\n",
       "      <td>{'hashtags': [], 'symbols': [], 'timestamps': ...</td>\n",
       "      <td>1</td>\n",
       "      <td>False</td>\n",
       "      <td>@Luis314PII @linea_progre @tasty4ever1 @esCesa...</td>\n",
       "      <td>False</td>\n",
       "      <td>...</td>\n",
       "      <td>NaN</td>\n",
       "      <td>NaN</td>\n",
       "      <td>NaN</td>\n",
       "      <td>9.0</td>\n",
       "      <td>NaN</td>\n",
       "      <td>NaN</td>\n",
       "      <td>Comment</td>\n",
       "      <td>https://twitter.com/78798396/status/1816204532...</td>\n",
       "      <td>False</td>\n",
       "      <td>NaN</td>\n",
       "    </tr>\n",
       "    <tr>\n",
       "      <th>7</th>\n",
       "      <td>0</td>\n",
       "      <td>False</td>\n",
       "      <td>1815161737496134018</td>\n",
       "      <td>Wed Jul 24 20:10:29 +0000 2024</td>\n",
       "      <td>[53, 305]</td>\n",
       "      <td>{'hashtags': [], 'symbols': [], 'timestamps': ...</td>\n",
       "      <td>1</td>\n",
       "      <td>False</td>\n",
       "      <td>@Luis314PII @linea_progre @tasty4ever1 @esCesa...</td>\n",
       "      <td>False</td>\n",
       "      <td>...</td>\n",
       "      <td>NaN</td>\n",
       "      <td>NaN</td>\n",
       "      <td>1.0</td>\n",
       "      <td>4.0</td>\n",
       "      <td>NaN</td>\n",
       "      <td>NaN</td>\n",
       "      <td>Comment</td>\n",
       "      <td>https://twitter.com/78798396/status/1816204327...</td>\n",
       "      <td>False</td>\n",
       "      <td>NaN</td>\n",
       "    </tr>\n",
       "    <tr>\n",
       "      <th>11</th>\n",
       "      <td>0</td>\n",
       "      <td>False</td>\n",
       "      <td>1816165237101662691</td>\n",
       "      <td>Wed Jul 24 17:35:09 +0000 2024</td>\n",
       "      <td>[0, 280]</td>\n",
       "      <td>{'hashtags': [], 'symbols': [], 'timestamps': ...</td>\n",
       "      <td>13</td>\n",
       "      <td>False</td>\n",
       "      <td>Estimados compañeros Bicentenarios.\\nEste es u...</td>\n",
       "      <td>False</td>\n",
       "      <td>...</td>\n",
       "      <td>7.0</td>\n",
       "      <td>NaN</td>\n",
       "      <td>13.0</td>\n",
       "      <td>102.0</td>\n",
       "      <td>NaN</td>\n",
       "      <td>NaN</td>\n",
       "      <td>Post</td>\n",
       "      <td>https://twitter.com/106178430/status/181616523...</td>\n",
       "      <td>False</td>\n",
       "      <td>NaN</td>\n",
       "    </tr>\n",
       "  </tbody>\n",
       "</table>\n",
       "<p>5 rows × 73 columns</p>\n",
       "</div>"
      ],
      "text/plain": [
       "    bookmark_count  bookmarked  conversation_id_str  \\\n",
       "3                0       False  1816217080397455588   \n",
       "5                0       False  1816201806252490955   \n",
       "6                0       False  1815161737496134018   \n",
       "7                0       False  1815161737496134018   \n",
       "11               0       False  1816165237101662691   \n",
       "\n",
       "                        created_at display_text_range  \\\n",
       "3   Wed Jul 24 21:01:10 +0000 2024           [0, 276]   \n",
       "5   Wed Jul 24 20:39:44 +0000 2024            [5, 72]   \n",
       "6   Wed Jul 24 20:11:18 +0000 2024          [53, 171]   \n",
       "7   Wed Jul 24 20:10:29 +0000 2024          [53, 305]   \n",
       "11  Wed Jul 24 17:35:09 +0000 2024           [0, 280]   \n",
       "\n",
       "                                             entities  favorite_count  \\\n",
       "3   {'hashtags': [], 'symbols': [], 'timestamps': ...               3   \n",
       "5   {'hashtags': [], 'symbols': [], 'timestamps': ...               0   \n",
       "6   {'hashtags': [], 'symbols': [], 'timestamps': ...               1   \n",
       "7   {'hashtags': [], 'symbols': [], 'timestamps': ...               1   \n",
       "11  {'hashtags': [], 'symbols': [], 'timestamps': ...              13   \n",
       "\n",
       "    favorited                                          full_text  \\\n",
       "3       False  Algunos padres están alarmados por nuevas circ...   \n",
       "5       False  @T13 .\\nTodos extranjeros no pago vacuna algun...   \n",
       "6       False  @Luis314PII @linea_progre @tasty4ever1 @esCesa...   \n",
       "7       False  @Luis314PII @linea_progre @tasty4ever1 @esCesa...   \n",
       "11      False  Estimados compañeros Bicentenarios.\\nEste es u...   \n",
       "\n",
       "    is_quote_status  ... MW_Reposts  MW_Comments  MW_Reactions  MW_Views  \\\n",
       "3             False  ...        NaN          NaN           3.0      15.0   \n",
       "5             False  ...        NaN          NaN           NaN       1.0   \n",
       "6             False  ...        NaN          NaN           NaN       9.0   \n",
       "7             False  ...        NaN          NaN           1.0       4.0   \n",
       "11            False  ...        7.0          NaN          13.0     102.0   \n",
       "\n",
       "    MW_Estimated Views MW_Document Tags post_type  \\\n",
       "3                  NaN              NaN      Post   \n",
       "5                  NaN              NaN   Comment   \n",
       "6                  NaN              NaN   Comment   \n",
       "7                  NaN              NaN   Comment   \n",
       "11                 NaN              NaN      Post   \n",
       "\n",
       "                                                  url  \\\n",
       "3   https://twitter.com/1302389542457159685/status...   \n",
       "5   https://twitter.com/15626578/status/1816211686...   \n",
       "6   https://twitter.com/78798396/status/1816204532...   \n",
       "7   https://twitter.com/78798396/status/1816204327...   \n",
       "11  https://twitter.com/106178430/status/181616523...   \n",
       "\n",
       "   has_retweeted_status_result original_rest_id  \n",
       "3                        False              NaN  \n",
       "5                        False              NaN  \n",
       "6                        False              NaN  \n",
       "7                        False              NaN  \n",
       "11                       False              NaN  \n",
       "\n",
       "[5 rows x 73 columns]"
      ]
     },
     "execution_count": 2,
     "metadata": {},
     "output_type": "execute_result"
    }
   ],
   "source": [
    "import pandas as pd\n",
    "\n",
    "data_df = pd.read_pickle('../combined_countries/data/combined_countries_processed.pkl')\n",
    "data_df.head()"
   ]
  },
  {
   "cell_type": "code",
   "execution_count": 3,
   "metadata": {},
   "outputs": [
    {
     "data": {
      "text/plain": [
       "Index(['bookmark_count', 'bookmarked', 'conversation_id_str', 'created_at',\n",
       "       'display_text_range', 'entities', 'favorite_count', 'favorited',\n",
       "       'full_text', 'is_quote_status', 'lang', 'quote_count', 'reply_count',\n",
       "       'retweet_count', 'retweeted', 'retweeted_status_result', 'user_id_str',\n",
       "       'status_id', 'extended_entities', 'possibly_sensitive',\n",
       "       'possibly_sensitive_editable', 'in_reply_to_screen_name',\n",
       "       'in_reply_to_status_id_str', 'in_reply_to_user_id_str', 'note_tweet',\n",
       "       'quoted_status_id_str', 'place', 'conversation_control', 'MW_Date',\n",
       "       'MW_Time', 'MW_Document ID', 'MW_URL', 'MW_Input Name', 'MW_Keywords',\n",
       "       'MW_Information Type', 'MW_Source Type', 'MW_Source Name',\n",
       "       'MW_Source Domain', 'MW_Content Type', 'MW_Author Name',\n",
       "       'MW_Author Handle', 'MW_Title', 'MW_Opening Text', 'MW_Hit Sentence',\n",
       "       'MW_Image', 'MW_Hashtags', 'MW_Links', 'MW_Country', 'MW_Region',\n",
       "       'MW_State', 'MW_City', 'MW_Language', 'MW_Sentiment', 'MW_Keyphrases',\n",
       "       'MW_Reach', 'MW_AVE', 'MW_Social Echo', 'MW_Editorial Echo',\n",
       "       'MW_Engagement', 'MW_Shares', 'MW_Quotes', 'MW_Likes', 'MW_Replies',\n",
       "       'MW_Reposts', 'MW_Comments', 'MW_Reactions', 'MW_Views',\n",
       "       'MW_Estimated Views', 'MW_Document Tags', 'post_type', 'url',\n",
       "       'has_retweeted_status_result', 'original_rest_id'],\n",
       "      dtype='object')"
      ]
     },
     "execution_count": 3,
     "metadata": {},
     "output_type": "execute_result"
    }
   ],
   "source": [
    "data_df.columns"
   ]
  },
  {
   "cell_type": "code",
   "execution_count": 4,
   "metadata": {},
   "outputs": [
    {
     "data": {
      "text/plain": [
       "3     False\n",
       "5     False\n",
       "6     False\n",
       "7     False\n",
       "11    False\n",
       "Name: has_retweeted_status_result, dtype: bool"
      ]
     },
     "execution_count": 4,
     "metadata": {},
     "output_type": "execute_result"
    }
   ],
   "source": [
    "data_df.has_retweeted_status_result[:5]"
   ]
  },
  {
   "cell_type": "code",
   "execution_count": 5,
   "metadata": {},
   "outputs": [
    {
     "data": {
      "text/plain": [
       "post_type  MW_Country        \n",
       "Comment    Argentina                 1\n",
       "           Canada                    1\n",
       "           Chile                     1\n",
       "           Costa Rica              885\n",
       "           Dominican Republic     2476\n",
       "           Guatemala              1100\n",
       "           Panama                 2797\n",
       "           United States             2\n",
       "Post       Costa Rica             4567\n",
       "           Dominican Republic     9745\n",
       "           Finland                   2\n",
       "           Guatemala             10764\n",
       "           India                     1\n",
       "           Mexico                    2\n",
       "           Panama                13887\n",
       "           Uruguay                   1\n",
       "dtype: int64"
      ]
     },
     "execution_count": 5,
     "metadata": {},
     "output_type": "execute_result"
    }
   ],
   "source": [
    "data_df.groupby(['post_type', 'MW_Country']).size()"
   ]
  },
  {
   "cell_type": "code",
   "execution_count": 6,
   "metadata": {},
   "outputs": [
    {
     "name": "stdout",
     "output_type": "stream",
     "text": [
      "Total rows 46232\n",
      "Total rows after filtering countries 34000\n",
      "Total rows after filtering null text 34000\n",
      "Total rows after removing full text duplicates 14761\n"
     ]
    }
   ],
   "source": [
    "### Data Cleaning\n",
    "print('Total rows', data_df.shape[0])\n",
    "\n",
    "countries_list = ['Costa Rica', 'Dominican republic', 'Guatemala', 'Panama']\n",
    "data_df = data_df[data_df.MW_Country.isin(countries_list)]\n",
    "print('Total rows after filtering countries', data_df.shape[0])\n",
    "\n",
    "data_df = data_df[data_df.full_text.notnull()]\n",
    "print('Total rows after filtering null text', data_df.shape[0])\n",
    "\n",
    "data_df = data_df.drop_duplicates(subset=['full_text'])\n",
    "print('Total rows after removing full text duplicates', data_df.shape[0])\n",
    "\n",
    "# save cleaned data\n",
    "data_df.to_pickle('../combined_countries/data/cleaned_combined_countries_processed.pkl')"
   ]
  },
  {
   "cell_type": "code",
   "execution_count": 7,
   "metadata": {},
   "outputs": [],
   "source": [
    "import os\n",
    "from dotenv import load_dotenv\n",
    "from openai import OpenAI as OpenAIclient\n",
    "from bertopic.backend import OpenAIBackend\n",
    "from utils.embedding import precompute_embeddings\n",
    "\n",
    "load_dotenv()\n",
    "\n",
    "client = OpenAIclient(api_key=os.getenv('OPENAI_API_KEY'))\n",
    "embedding_model = OpenAIBackend(client, 'text-embedding-3-small', batch_size=1000)\n",
    "embedding_function = embedding_model.embed # has to be the function not the callable\n",
    "\n",
    "# precompute embeddings\n",
    "embeddings = precompute_embeddings(data_df = data_df,\n",
    "                                   text_col_name='full_text',\n",
    "                                   embedding_function=embedding_function,\n",
    "                                   output_file_path='../data/combined_countries/cleaned_combined_countries.npy')"
   ]
  },
  {
   "cell_type": "code",
   "execution_count": 8,
   "metadata": {},
   "outputs": [
    {
     "data": {
      "text/plain": [
       "array([[ 0.04628968,  0.01328233,  0.00646305, ...,  0.03969432,\n",
       "        -0.00095864,  0.01252916],\n",
       "       [ 0.02764316, -0.01576809,  0.01681836, ...,  0.02716704,\n",
       "         0.0169724 ,  0.00551743]])"
      ]
     },
     "execution_count": 8,
     "metadata": {},
     "output_type": "execute_result"
    }
   ],
   "source": [
    "from utils.embedding import precompute_embeddings, read_embeddings\n",
    "\n",
    "embeddings = read_embeddings('../data/combined_countries/cleaned_combined_countries.npy')\n",
    "embeddings[:2]"
   ]
  },
  {
   "cell_type": "code",
   "execution_count": 9,
   "metadata": {},
   "outputs": [
    {
     "name": "stderr",
     "output_type": "stream",
     "text": [
      "2024-08-07 18:17:01,159 - BERTopic - Dimensionality - Fitting the dimensionality reduction algorithm\n",
      "OMP: Info #276: omp_set_nested routine deprecated, please use omp_set_max_active_levels instead.\n",
      "2024-08-07 18:17:14,477 - BERTopic - Dimensionality - Completed ✓\n",
      "2024-08-07 18:17:14,478 - BERTopic - Cluster - Start clustering the reduced embeddings\n",
      "2024-08-07 18:17:22,608 - BERTopic - Cluster - Completed ✓\n",
      "2024-08-07 18:17:22,608 - BERTopic - Representation - Extracting topics from clusters using representation models.\n",
      "100%|██████████| 136/136 [13:10<00:00,  5.81s/it]\n",
      "100%|██████████| 136/136 [24:32<00:00, 10.83s/it]\n",
      "2024-08-07 18:56:01,592 - BERTopic - Representation - Completed ✓\n",
      "2024-08-07 18:56:01,598 - BERTopic - Topic reduction - Reducing number of topics\n",
      "100%|██████████| 15/15 [01:26<00:00,  5.75s/it]\n",
      "100%|██████████| 15/15 [02:43<00:00, 10.88s/it]\n",
      "2024-08-07 19:00:19,398 - BERTopic - Topic reduction - Reduced number of topics from 136 to 15\n",
      "2024-08-07 19:00:19,518 - BERTopic - Dimensionality - Fitting the dimensionality reduction algorithm\n"
     ]
    },
    {
     "name": "stdout",
     "output_type": "stream",
     "text": [
      "nr_topics:       15\n",
      "min_topic_size:  15\n",
      "num_outliers:    6090\n"
     ]
    },
    {
     "name": "stderr",
     "output_type": "stream",
     "text": [
      "2024-08-07 19:00:25,099 - BERTopic - Dimensionality - Completed ✓\n",
      "2024-08-07 19:00:25,101 - BERTopic - Cluster - Start clustering the reduced embeddings\n",
      "2024-08-07 19:00:25,906 - BERTopic - Cluster - Completed ✓\n",
      "2024-08-07 19:00:25,907 - BERTopic - Representation - Extracting topics from clusters using representation models.\n",
      "100%|██████████| 8/8 [00:46<00:00,  5.79s/it]\n",
      "100%|██████████| 8/8 [01:26<00:00, 10.84s/it]\n",
      "2024-08-07 19:02:47,688 - BERTopic - Representation - Completed ✓\n",
      "2024-08-07 19:02:47,701 - BERTopic - Topic reduction - Reducing number of topics\n",
      "2024-08-07 19:02:47,703 - BERTopic - Topic reduction - Reduced number of topics from 8 to 8\n",
      "2024-08-07 19:02:47,785 - BERTopic - Dimensionality - Fitting the dimensionality reduction algorithm\n"
     ]
    },
    {
     "name": "stdout",
     "output_type": "stream",
     "text": [
      "nr_topics:       15\n",
      "min_topic_size:  50\n",
      "num_outliers:    100\n"
     ]
    },
    {
     "name": "stderr",
     "output_type": "stream",
     "text": [
      "2024-08-07 19:02:52,752 - BERTopic - Dimensionality - Completed ✓\n",
      "2024-08-07 19:02:52,754 - BERTopic - Cluster - Start clustering the reduced embeddings\n",
      "2024-08-07 19:02:53,770 - BERTopic - Cluster - Completed ✓\n",
      "2024-08-07 19:02:53,770 - BERTopic - Representation - Extracting topics from clusters using representation models.\n",
      "100%|██████████| 8/8 [00:45<00:00,  5.73s/it]\n",
      "100%|██████████| 8/8 [01:25<00:00, 10.64s/it]\n",
      "2024-08-07 19:05:10,647 - BERTopic - Representation - Completed ✓\n",
      "2024-08-07 19:05:10,651 - BERTopic - Topic reduction - Reducing number of topics\n",
      "2024-08-07 19:05:10,653 - BERTopic - Topic reduction - Reduced number of topics from 8 to 8\n",
      "2024-08-07 19:05:10,757 - BERTopic - Dimensionality - Fitting the dimensionality reduction algorithm\n"
     ]
    },
    {
     "name": "stdout",
     "output_type": "stream",
     "text": [
      "nr_topics:       15\n",
      "min_topic_size:  100\n",
      "num_outliers:    515\n"
     ]
    },
    {
     "name": "stderr",
     "output_type": "stream",
     "text": [
      "2024-08-07 19:05:15,702 - BERTopic - Dimensionality - Completed ✓\n",
      "2024-08-07 19:05:15,704 - BERTopic - Cluster - Start clustering the reduced embeddings\n",
      "2024-08-07 19:05:35,345 - BERTopic - Cluster - Completed ✓\n",
      "2024-08-07 19:05:35,345 - BERTopic - Representation - Extracting topics from clusters using representation models.\n",
      "100%|██████████| 217/217 [21:00<00:00,  5.81s/it]\n",
      "100%|██████████| 217/217 [40:14<00:00, 11.13s/it]\n",
      "2024-08-07 20:08:22,199 - BERTopic - Representation - Completed ✓\n",
      "2024-08-07 20:08:22,213 - BERTopic - Topic reduction - Reducing number of topics\n",
      "100%|██████████| 50/50 [04:47<00:00,  5.75s/it]\n",
      "100%|██████████| 50/50 [08:57<00:00, 10.75s/it]\n",
      "2024-08-07 20:22:31,502 - BERTopic - Topic reduction - Reduced number of topics from 217 to 50\n",
      "2024-08-07 20:22:31,750 - BERTopic - Dimensionality - Fitting the dimensionality reduction algorithm\n"
     ]
    },
    {
     "name": "stdout",
     "output_type": "stream",
     "text": [
      "nr_topics:       50\n",
      "min_topic_size:  10\n",
      "num_outliers:    6464\n"
     ]
    },
    {
     "name": "stderr",
     "output_type": "stream",
     "text": [
      "2024-08-07 20:22:38,067 - BERTopic - Dimensionality - Completed ✓\n",
      "2024-08-07 20:22:38,068 - BERTopic - Cluster - Start clustering the reduced embeddings\n",
      "2024-08-07 20:22:39,053 - BERTopic - Cluster - Completed ✓\n",
      "2024-08-07 20:22:39,053 - BERTopic - Representation - Extracting topics from clusters using representation models.\n",
      "100%|██████████| 8/8 [01:01<00:00,  7.70s/it]\n",
      "100%|██████████| 8/8 [01:27<00:00, 10.93s/it]\n",
      "2024-08-07 20:25:16,029 - BERTopic - Representation - Completed ✓\n",
      "2024-08-07 20:25:16,034 - BERTopic - Topic reduction - Reducing number of topics\n",
      "2024-08-07 20:25:16,035 - BERTopic - Topic reduction - Reduced number of topics from 8 to 8\n"
     ]
    },
    {
     "name": "stdout",
     "output_type": "stream",
     "text": [
      "nr_topics:       100\n",
      "min_topic_size:  100\n",
      "num_outliers:    683\n"
     ]
    }
   ],
   "source": [
    "from bertopic import BERTopic\n",
    "from nltk.corpus import stopwords\n",
    "from openai import OpenAI as OpenAIclient\n",
    "from bertopic.backend import OpenAIBackend\n",
    "from sklearn.feature_extraction.text import CountVectorizer\n",
    "from bertopic.representation import KeyBERTInspired, OpenAI, MaximalMarginalRelevance\n",
    "\n",
    "docs = data_df.full_text.to_list()\n",
    "\n",
    "# hyperparameters from coherence and diversity based experimentation\n",
    "params_list = [{'nr_topics': 15, 'min_topic_size': 15},\n",
    "               {'nr_topics': 15, 'min_topic_size': 50},\n",
    "               {'nr_topics': 15, 'min_topic_size': 100},\n",
    "               {'nr_topics': 50, 'min_topic_size': 10},\n",
    "               {'nr_topics': 100, 'min_topic_size': 100}]\n",
    "\n",
    "# lists to save the two resulting models\n",
    "models = []\n",
    "topics = []\n",
    "probs = []\n",
    "\n",
    "# initialize custom model components\n",
    "client = OpenAIclient(api_key=os.getenv('OPENAI_API_KEY'))\n",
    "embedding_model = OpenAIBackend(client, 'text-embedding-3-small', batch_size=1000)\n",
    "stop_words = stopwords.words(['english', 'spanish']) + ['https', 'http', 'www', 'com', 'org', 'net', 'edu', 'gov']\n",
    "vectorizer_model = CountVectorizer(ngram_range=(1, 2),stop_words=stop_words)\n",
    "main_representation = OpenAI(client, model='gpt-4o-2024-05-13', delay_in_seconds=5, chat=True)\n",
    "keyword_representation = KeyBERTInspired()\n",
    "keyword_sent_representation = [KeyBERTInspired(top_n_words=30), OpenAI(client, model='gpt-4o-2024-05-13', delay_in_seconds=10, chat=True)]\n",
    "\n",
    "\n",
    "representation_model = {\n",
    "   \"Main\": main_representation,\n",
    "   \"Keywords\":  keyword_representation,\n",
    "   \"MMR Keywords\":  keyword_sent_representation,\n",
    "}\n",
    "\n",
    "for params in params_list:\n",
    "\n",
    "    model = BERTopic(\n",
    "        embedding_model = embedding_model,\n",
    "        vectorizer_model = vectorizer_model,\n",
    "        representation_model = representation_model,\n",
    "        nr_topics = params['nr_topics'],\n",
    "        min_topic_size = params['min_topic_size'],\n",
    "        calculate_probabilities = True,\n",
    "        verbose = True\n",
    "    )\n",
    "\n",
    "    topic, prob = model.fit_transform(documents=docs, embeddings=embeddings)\n",
    "\n",
    "    print(f'nr_topics:       {params[\"nr_topics\"]}')\n",
    "    print(f'min_topic_size:  {params[\"min_topic_size\"]}')\n",
    "    print(f'num_outliers:    {model.get_topic_info(-1)[\"Count\"][0]}')\n",
    "\n",
    "    # save results\n",
    "    models.append(model)\n",
    "    topics.append(topic)\n",
    "    probs.append(prob)"
   ]
  },
  {
   "cell_type": "code",
   "execution_count": 11,
   "metadata": {},
   "outputs": [
    {
     "name": "stdout",
     "output_type": "stream",
     "text": [
      "    Topic  Count  \\\n",
      "0      -1   6090   \n",
      "1       0   6873   \n",
      "2       1    591   \n",
      "3       2    342   \n",
      "4       3    334   \n",
      "5       4    103   \n",
      "6       5     94   \n",
      "7       6     84   \n",
      "8       7     70   \n",
      "9       8     61   \n",
      "10      9     37   \n",
      "11     10     26   \n",
      "12     11     23   \n",
      "13     12     17   \n",
      "14     13     16   \n",
      "\n",
      "                                                                                                                             Name  \\\n",
      "0                                                                                    -1_Vaccine Criticism and Pandemic Skepticism   \n",
      "1                                                                           0_Vacunación contra el COVID-19 y efectos secundarios   \n",
      "2                                                                              1_Ley de Extinción de Dominio y Corrupción Pública   \n",
      "3                                                                                           2_HPV Vaccine Awareness and Promotion   \n",
      "4                                                                                          3_Rabies Vaccination Campaign for Pets   \n",
      "5                                                                                         4_COVID-19 Vaccination Progress Updates   \n",
      "6                                                           5_Health Ministry of Guatemala and Health Discussions on Social Media   \n",
      "7                                                                                                             6_Vaccine Obsession   \n",
      "8                                                                                      7_Decline in Beef Consumption in Argentina   \n",
      "9                                                        8_Legal Challenges Against Pfizer's COVID-19 Vaccine in Kansas and Texas   \n",
      "10                                                                                 9_Unidentified Keywords and Links from Twitter   \n",
      "11                           10_Judíos y contribuciones históricas vs. boicot islámico en el contexto de ayuda humanitaria a Gaza   \n",
      "12                                                               11_Vaccine Development for Cocaine and Crack Addiction in Brazil   \n",
      "13  12_Novak Djokovic's stance on COVID-19 vaccination and its impact on his career vs Rafael Nadal's post-vaccination challenges   \n",
      "14                                                                                                         13_Humor and Emoticons   \n",
      "\n",
      "                                                                                                                                                                                                                                                     Keywords  \\\n",
      "0                                                                                                                                           [vacuna covid, vacunas, vacuna, vacunación, vacunados, vacuna influenza, dosis vacuna, pandemia, covid 19, covid]   \n",
      "1                                                                                                                   [vacuna covid, vacunas covid, nueva vacuna, vacunación, vacunas, vacuna, dosis vacuna, vacuna influenza, vacuna dengue, vacuna sarampión]   \n",
      "2                                                                                       [dominio delitos, vacuna corrupción, delitos admintraciòn, extinciòn dominio, pago vacuna, dominios delitos, cobrando vacuna, pagar vacuna, ley vacuna, vacuna ratas]   \n",
      "3                                                                                                            [vacuna vph, vacuna papiloma, solicita vacuna, vacuna gardasil, vph dejes, vacunavph protege, vacunación, recibido vacuna, vacuna, vacuna virus]   \n",
      "4                                                                [vacuna mascota, vacuna rabia, noviembre vacuna, jornadadevacunacióncontralarabia cuida, octubre vacuna, solicita vacuna, jornadadevacunacióncontralarabia, canina solicita, vacuna, perros]   \n",
      "5                                                      [mspas comparte, mqrwj6g0pm planvacunacovid19, mqrwj6fsae planvacunacovid19, planvacunacovid19, primera dosis, planvacunacovid19 co, vacuna covid19, mspas recomienda, días vacunaste, mspas pregunta]   \n",
      "6   [minsaludguate minsaludguate, información minsaludguate, emisorasunidas minsaludguate, minsaludguate, minsaludguate co, minsaludguate aca, barevalodeleon minsaludguate, minsaludguate santipalomov, minsaludguate noticiasmspas, minsaludguate nancyvir]   \n",
      "7                                                                                                                                                     [waooo, sip waooo, waoo, waoo waooo, waooo 𝙌𝙪𝙚, awww waoo, waooo awww, hahahahahaha, 𝙌𝙪𝙚 𝙤𝙗𝙨𝙚𝙘𝙞𝙤𝙣, 𝙌𝙪𝙚]   \n",
      "8                                                                                                          [consumo carne, exportaciones carne, precios carne, carne vacuna, desplomó consumo, precio carne, cortes carne, carne, cultivadas carne, ganadera]   \n",
      "9                                                                                             [kansas demanda, pfizer engañar, demanda pfizer, pfizer hizo, trabajadores pfizer, pfizer pusieron, vacuna covid, público vacuna, vacunas covid, pfizer afirma]   \n",
      "10                                                                                                                 [olpnxrvbuj co, eujps9rxu0 co, olpnxrvbuj, eujps9rxu0, co ow5ix8pv6n, 1ocrxuywyd co, 1ocrxuywyd, co olpnxrvbuj, eu9phnw9x7, eu9phnw9x7 co]   \n",
      "11                                                                                                                     [polio judío, israelí, judío si, descubrimiento judío, judío zalman, judío, israel, psicoanálisis judío, judíos, musulmanes radicales]   \n",
      "12                                                                                          [vacuna cocaína, adicción cocaína, cocaína medicamento, vacuna anticocaína, drogas vacunas, efectos cocaína, cocaína, vacuna adicción, cocaína crack, cocaína co]   \n",
      "13                                                                                                    [novak siempre, covid novak, djokovic vauncarse, novak entrevistador, novak, pagar novak, novak djokovic, rafael nadal, entrevistador novak, atp novak]   \n",
      "14                                                                                                                                                                                                                                       [, , , , , , , , , ]   \n",
      "\n",
      "                                                                                          MMR Keywords  \n",
      "0                                                     [Vaccine skepticism and pandemic misinformation]  \n",
      "1                                                                 [vacuna covid y efectos secundarios]  \n",
      "2   [Ley de Extinción de Dominio y su impacto en la lucha contra la corrupción y el crimen organizado]  \n",
      "3                                                   [Vacuna contra el VPH para jóvenes de 9 a 16 años]  \n",
      "4                                         [Jornada de Vacunación Antirrábica para Mascotas en Octubre]  \n",
      "5                                                       [COVID-19 Vaccination Data Updates from MSPAS]  \n",
      "6                                                         [Health and Government Updates in Guatemala]  \n",
      "7                                                                     [Waooo and Vaccination Opinions]  \n",
      "8                                                           [Decline in Beef Consumption in Argentina]  \n",
      "9                                                 [Kansas Demands Pfizer Over COVID-19 Vaccine Claims]  \n",
      "10                                                              [Online News and Social Media Updates]  \n",
      "11                            [Israel-Gaza Vaccination Coordination and Anti-Jewish Boycott Criticism]  \n",
      "12                                                 [vacuna contra la adicción a la cocaína y el crack]  \n",
      "13  [Novak Djokovic's stance on COVID-19 vaccination and its impact on his and Rafael Nadal's careers]  \n",
      "14                                                                                  [Humor and Emojis]  \n",
      "   Topic  Count  \\\n",
      "0     -1    100   \n",
      "1      0    107   \n",
      "2      1    422   \n",
      "3      2     69   \n",
      "4      3     60   \n",
      "5      4  13598   \n",
      "6      5    194   \n",
      "7      6    211   \n",
      "\n",
      "                                                             Name  \\\n",
      "0                              -1_VPH Vaccine Promotion for Teens   \n",
      "1                   0_MSPAS COVID-19 Vaccination Data and Updates   \n",
      "2       1_Prevención del cáncer con vacuna VPH para niñas y niños   \n",
      "3                      2_Decline in Beef Consumption in Argentina   \n",
      "4                                3_COVID-19 Vaccination Promotion   \n",
      "5                 4_COVID-19 Vaccine Controversies and Criticisms   \n",
      "6  5_Rescate y Adopción de Perros, Buscando Padrinos y Donaciones   \n",
      "7                               6_Vaccination Campaign for Rabies   \n",
      "\n",
      "                                                                                                                                                                                                                Keywords  \\\n",
      "0                                                       [vacuna vph, ddrisssantarosa vacunavph, solicita vacuna, vph dejes, recibido vacuna, miedos vacunavph, vacunavph protege, existe vacuna, vacuna, primera vacuna]   \n",
      "1  [mqrwj6g0pm planvacunacovid19, mqrwj6fsae planvacunacovid19, mspas comparte, planvacunacovid19, primera dosis, planvacunacovid19 co, vacuna covid19, yf2icakyea planvacunacovid19, completo vacuna, covid19 consulte]   \n",
      "2                                           [vacuna vph, prevención niñas, protegesufuturo mspas, vacuna papiloma, solicitar vacuna, vacunavph protege, solicita vacuna, paso prevención, cuidamos vacuna, salud futuro]   \n",
      "3                                                                     [consumo carne, exportaciones carne, precios carne, carne vacuna, desplomó consumo, precio carne, cortes carne, carne, cultivadas carne, ganadera]   \n",
      "4                                 [hazlo vacunacovid19, vacuna covid, defensa vacunaste, ury5vqk9ax vacuna, k6cue6lzsd vacuna, iaxitieprg vacuna, ty2umg68bd vacuna, vvpf5ncqyj vacuna, vacunado aún, fqk3jlntqu vacuna]   \n",
      "5                                                                                                [vacuna covid, vacunación, vacunas, vacunados, vacuna, dosis vacuna, vacuna influenza, pandemia, covid 19, astrazeneca]   \n",
      "6                                                                                               [adoptarlo, adoptar, perritos, adopción, perros, ayuda, busca hogar, 5512382370661060 bancomer, bancomer diana, perrita]   \n",
      "7     [vacunación rabia, vacuna mascota, vacuna rabia, noviembre vacuna, jornadadevacunacióncontralarabia cuida, octubre vacuna, solicita vacuna, jornadadevacunacióncontralarabia, canina solicita, vacuna antirrábica]   \n",
      "\n",
      "                                             MMR Keywords  \n",
      "0                   [Promoting HPV Vaccination for Teens]  \n",
      "1          [COVID-19 Vaccination Data Updates from MSPAS]  \n",
      "2              [Vacuna VPH y prevención en niñas y niños]  \n",
      "3              [Decline in Beef Consumption in Argentina]  \n",
      "4          [COVID-19 Vaccination Awareness and Promotion]  \n",
      "5  [COVID-19 Vaccine and Pandemic Policies Controversies]  \n",
      "6                [Animal Rescue and Adoption Fundraising]  \n",
      "7          [Vaccination Campaign Against Rabies for Pets]  \n",
      "   Topic  Count  \\\n",
      "0     -1    515   \n",
      "1      0    108   \n",
      "2      1    407   \n",
      "3      2    412   \n",
      "4      3    420   \n",
      "5      4    233   \n",
      "6      5  12169   \n",
      "7      6    497   \n",
      "\n",
      "                                                                              Name  \\\n",
      "0                                   -1_COVID-19 Vaccination for 12 Years and Older   \n",
      "1                                     0_COVID-19 Vaccination Data Updates by MSPAS   \n",
      "2                                     1_Vacuna VPH para Niños - Prevención y Salud   \n",
      "3                       2_AstraZeneca admits COVID-19 vaccine may cause thrombosis   \n",
      "4                                           3_Rabies Vaccination Campaign for Pets   \n",
      "5  4_Premios Nobel de Medicina y avances en vacunas contra el cáncer y la COVID-19   \n",
      "6   5_Controversias y hechos sobre la eficacia y seguridad de las vacunas COVID-19   \n",
      "7                                 6_OMS recomienda primera vacuna contra el dengue   \n",
      "\n",
      "                                                                                                                                                                                                     Keywords  \\\n",
      "0                                                                   [vacuna covid, defensa vacunaste, vacunación, vacuna, primera vacuna, recibido vacuna, vacunaste, vacuna co, vacuna herpes, vacuna móvil]   \n",
      "1        [mspas vacuna, mspas comparte, mqrwj6g0pm planvacunacovid19, mqrwj6fsae planvacunacovid19, planvacunacovid19, primera dosis, planvacunacovid19 co, vacuna covid19, mspas recomienda, mspas pregunta]   \n",
      "2                                         [vacuna vph, prevención niñas, protegesufuturo mspas, solicitar vacuna, vacunavph protege, solicita vacuna, paso prevención, cuidamos vacuna, salud futuro, vacuna]   \n",
      "3             [astrazeneca admite, astrazeneca admitió, vacuna astrazeneca, astrazeneca retira, covid astrazeneca, astrazeneca dejará, astrazeneca, efectos secundarios, secundarios trombosis, astra zeneca]   \n",
      "4  [vacuna mascota, vacuna rabia, noviembre vacuna, jornadadevacunacióncontralarabia cuida, octubre vacuna, solicita vacuna, vacuna antirrábica, jornadadevacunacióncontralarabia, canina solicita, mascotas]   \n",
      "5                                                     [vacuna cáncer, vacunas cáncer, crear vacuna, vacuna personalizada, vacuna covid, primera vacuna, weissman vacuna, vacuna, vacunas, vacuna terapéutica]   \n",
      "6                                                                              [vacuna covid, vacunas covid, vacunas, vacunación, vacuna, dosis vacuna, vacunados, vacuna influenza, covid, efectos adversos]   \n",
      "7                                                            [dengue vacuna, vacuna dengue, nueva vacuna, segunda vacuna, vacuna chikungunya, primera vacuna, vacuna qdenga, vacuna malaria, vacunas, vacuna]   \n",
      "\n",
      "                                                                    MMR Keywords  \n",
      "0                                    [COVID-19 Vaccination Safety and Promotion]  \n",
      "1                                               [MSPAS Vaccine Updates COVID-19]  \n",
      "2                                      [VPH Vaccination for Children Prevention]  \n",
      "3                          [AstraZeneca Covid-19 vaccine side effects admission]  \n",
      "4                              [Rabies Vaccination Campaign for Pets in October]  \n",
      "5  [Premios Nobel en Medicina 2023 y avances en vacunas (ARNm y cáncer de piel)]  \n",
      "6                                [COVID-19 Vaccine Efficacy and Safety Concerns]  \n",
      "7                       [Primera vacuna contra el dengue recomendada por la OMS]  \n",
      "    Topic  Count  \\\n",
      "0      -1   6464   \n",
      "1       0   2365   \n",
      "2       1   1253   \n",
      "3       2    967   \n",
      "4       3    553   \n",
      "5       4    370   \n",
      "6       5    285   \n",
      "7       6    219   \n",
      "8       7    201   \n",
      "9       8    181   \n",
      "10      9    159   \n",
      "11     10    144   \n",
      "12     11    143   \n",
      "13     12    127   \n",
      "14     13    112   \n",
      "15     14    106   \n",
      "16     15     94   \n",
      "17     16     89   \n",
      "18     17     87   \n",
      "19     18     77   \n",
      "20     19     63   \n",
      "21     20     58   \n",
      "22     21     55   \n",
      "23     22     52   \n",
      "24     23     49   \n",
      "25     24     38   \n",
      "26     25     33   \n",
      "27     26     29   \n",
      "28     27     28   \n",
      "29     28     27   \n",
      "30     29     24   \n",
      "31     30     24   \n",
      "32     31     22   \n",
      "33     32     20   \n",
      "34     33     20   \n",
      "35     34     19   \n",
      "36     35     19   \n",
      "37     36     18   \n",
      "38     37     17   \n",
      "39     38     16   \n",
      "40     39     16   \n",
      "41     40     16   \n",
      "42     41     15   \n",
      "43     42     14   \n",
      "44     43     13   \n",
      "45     44     13   \n",
      "46     45     12   \n",
      "47     46     12   \n",
      "48     47     12   \n",
      "49     48     11   \n",
      "\n",
      "                                                                                                              Name  \\\n",
      "0                                                                   -1_Covid-19 Vaccine Controversy and Opposition   \n",
      "1                                                      0_Criticism of COVID-19 Vaccines and Global Health Policies   \n",
      "2                                                                              1_vacunación y enfermedades virales   \n",
      "3                                                                      2_OMS aprueba nueva vacuna contra el dengue   \n",
      "4                                                    3_AstraZeneca COVID-19 Vaccine Withdrawal and Adverse Effects   \n",
      "5                                                                                   4_Gratitud y Críticas Sociales   \n",
      "6                                                                                5_HPV vaccine for youth ages 9-16   \n",
      "7                                                            6_Criticism of Government Projects and Administration   \n",
      "8                   7_Putin's claims on near-development of cancer vaccines and global cancer vaccine advancements   \n",
      "9                                                                8_Rabies Vaccination Campaign for Pets in October   \n",
      "10                                           9_Inicio de vacunación en Panamá con dosis de influenza y hexavalente   \n",
      "11                                                                          10_COVID-19 Vaccine for Ages 12 and Up   \n",
      "12                                     11_Rescate y adopción de perros, donaciones para vacunas y esterilizaciones   \n",
      "13                                                                12_COVID-19 Vaccination Updates by MinSaludGuate   \n",
      "14                                                             13_Spanish and European Football Matches and Events   \n",
      "15                                                                        14_COVID-19 Vaccination Updates by MSPAS   \n",
      "16                                                                                             15_online obsession   \n",
      "17                                                                     16_Decline in Beef Consumption in Argentina   \n",
      "18                                                  17_Matrimonio igualitario y polémicas sobre educación y género   \n",
      "19                                     18_Costa Rican Public Figures and Health Policy Discussions on Social Media   \n",
      "20                                                    19_COVID-19 Conspiracy Theories About PCR Tests and Vaccines   \n",
      "21                           20_Historia de la Vacunación contra la Viruela y la Expedición Filantrópica de Balmis   \n",
      "22                                                                  21_Vacunación contra el sarampión en Guatemala   \n",
      "23                                                       22_Bill Gates' Investment in Pfizer and Vaccine Criticism   \n",
      "24                                             23_Cuban Biotechnological & Pharmaceutical Advancements in Vaccines   \n",
      "25                                                                            24_Free KRLS and Associated Keywords   \n",
      "26                                       25_Conspiraciones sobre enfermedades controladas y manipulación biológica   \n",
      "27                                                            26_FDA approves first chikungunya vaccine for adults   \n",
      "28                                                               27_Herpes Zóster and Its Prevention and Treatment   \n",
      "29                                                                             28_Israel, Judíos y Boicot Islámico   \n",
      "30                             29_Italian Neurologist Claims COVID Vaccine is a Biological Weapon at EU Parliament   \n",
      "31                              30_Impacto global de COVID, cambio climático, vacunación y primaveras democráticas   \n",
      "32                                                                31_Número de dosis de vacunas contra el COVID-19   \n",
      "33                                           32_Desarrollo de una vacuna en Brasil contra la adicción a la cocaína   \n",
      "34                                                33_Impact of Respiratory Syncytial Virus in Children and Elderly   \n",
      "35                                                                   34_Challenges and Cultural Identity in Panama   \n",
      "36                                                        35_Budget Cuts Impacting Child Vaccination and Education   \n",
      "37  36_Novak Djokovic's Stance on COVID-19 Vaccination and Its Impact on His Career and Rafael Nadal's Performance   \n",
      "38                                                                                          37_Humor and Emoticons   \n",
      "39                                          38_Eficacia de la ivermectina en el tratamiento de cánceres y COVID-19   \n",
      "40                            39_COVID-19 Vaccine Mortality Data and Government Transparency Issues in New Zealand   \n",
      "41                               40_Alerta en el sur de India por virus Nipah sin vacuna y alta tasa de mortalidad   \n",
      "42                                                                                        41_vacuna del colesterol   \n",
      "43                                                                42_Conspiracies and Limited Hangout in Espionage   \n",
      "44                                                                         43_#CubaEsCiencia y #EstaEsLaRevolución   \n",
      "45                                                                     44_Alzheimer’s Disease Vaccination Advances   \n",
      "46                                                                     45_Vacunación en centros de salud en Panamá   \n",
      "47                                                         46_Travel Requirements for Saprissa Players to Honduras   \n",
      "48                                                     47_Criticism of COVID-19 Vaccine Response by Tucker Carlson   \n",
      "49                                                                            48_Pfizer Vaccine Rejection in India   \n",
      "\n",
      "                                                                                                                                                                                                                                                                                                           Keywords  \\\n",
      "0                                                                                                                                                                                        [vacuna covid, vacunación, vacunados, vacunas, vacuna, efectos adversos, dosis vacuna, pandemia, vacuna influenza, pfizer]   \n",
      "1                                                                                                                                                                                [vacuna covid, culpa vacuna, vacunas covid, después vacuna, vacunación, vacunas, efectos adversos, vacuna, dosis vacuna, pandemia]   \n",
      "2                                                                                                                                                                                [vacuna vacuna, vacuna covid, vacuna, vacunas, puse vacuna, vacunación, ninguna vacuna, vacuna influenza, dosis vacuna, vacuna co]   \n",
      "3                                                                                                                                                                             [dengue vacuna, vacuna dengue, nueva vacuna, vacuna covid, vacuna actualizada, vacuna malaria, dosis vacuna, vacunas, dengue, vacuna]   \n",
      "4                                                                                                                             [astrazeneca admite, vacuna astrazeneca, astrazeneca retira, astrazeneca, efectos adversos, efectos secundarios, secundarios trombosis, vacuna covid, causar trombosis, vacuna puede]   \n",
      "5                                                                                                                                                                                          [totalmente acuerdo, excelente noticia, excelente, gratitud, verdad, noticia, gracias, sinvergüenza, jajaja, agradécelo]   \n",
      "6                                                                                                                                                          [vacuna vph, solicitar vacuna, solicita vacuna, vph dejes, vacunavph protege, recibido vacuna, vacuna, cuidamos vacuna, vacuna cuida, oportunidad acude]   \n",
      "7                                                                                                                                                                                 [presidente, corrupción, gobierno, pagar vacuna, méxico, vacuna corrupción, funcionarios, izquierda vacuna, pago vacuna, dólares]   \n",
      "8                                                                                                                                                                [vacuna cáncer, crear vacuna, vacunas cáncer, vacuna rusa, vacuna covid, vacuna desarrollada, vacuna, científicos rusos, vacunas, weissman vacuna]   \n",
      "9                                                                                                          [vacunación rabia, vacuna mascota, vacuna rabia, noviembre vacuna, jornadadevacunacióncontralarabia cuida, octubre vacuna, solicita vacuna, jornadadevacunacióncontralarabia, canina solicita, mascotas]   \n",
      "10                                                                                                         [jornada vacunación, vacunación instalaciones, influenza vacuna, inmunización país, vacunación, cobertura inmunización, vacuna hexavalente, vacuna influenza, proceso vacunación, ampliado inmunización]   \n",
      "11                                                                                                                                                                   [vacunarse covid, hazlo vacunacovid19, vacuna covid, defensa vacunaste, 19 vacuna, vacuna mejor, vacunación, vacunado si, vacunarse, vacunado]   \n",
      "12                                                                                                                                                                          [perritos, adoptarlo, perros, adoptar, busca hogar, ayuda, 5512382370661060 bancomer, banco azteca, tarjeta 5512382370661060, adopción]   \n",
      "13                                                                                                              [noticiasdca minsaludguate, noticiasdca, vacunación consulte, minsaludguate comparte, minsaludguate, minsaludguate da, primera dosis, vacuna covid19, saladeprensa minsaludguate, minsaludguate co]   \n",
      "14                                                                                                                                                [barcelona vacuna, real madrid, barcelona, vacuna modric, jugadores carísimos, barcelona callarlos, barça, viene barcelona, fútbol cosas, vacuna futbolcentroame]   \n",
      "15                                                                                                             [mspas vacuna, mspas comparte, mqrwj6g0pm planvacunacovid19, mqrwj6fsae planvacunacovid19, planvacunacovid19, primera dosis, planvacunacovid19 co, vacuna covid19, mspas recomienda, días vacunaste]   \n",
      "16                                                                                                                                                                                                                  [waooo, sip waooo, waoo, waoo waooo, plox, awww waoo, waooo 𝙌𝙪𝙚, plox plop, 𝙨𝙚𝙢𝙞𝙡𝙡𝙖 plox, awww]   \n",
      "17                                                                                                                                                               [consumo carne, exportaciones carne, precios carne, carne vacuna, desplomó consumo, precio carne, cortes carne, carne, cultivadas carne, ganadera]   \n",
      "18                                                                                                                                 [matrimonio igualitario, igualitario vacuna, igualitario, igualdad, insisto matrimonio, estupidez vacuna, gente vacuna, vacuna cancelación, vacuna ignorancia, vacuna estupidez]   \n",
      "19                                                                                                                                   [ccssdecostarica msaludcr, msaludcr ccssdecostarica, ccssdecostarica, rodrigochavesr ccssdecostarica, viendo ayuso, msaludcr, defendamoscr, ayuso, sanchez díaz, defensoriacr]   \n",
      "20                                                                                                                                                             [prueba covid, prueba pcr, truco vacuna, falsos positivos, covid utilizando, vacuna prueba, vacuna covid, covid anunciado, matones covid, vacuna 5g]   \n",
      "21                                                                                                                                                        [primera vacuna, vacuna viruela, vacuna, vacunación, vacuna salk, filantrópica vacuna, viruela enfermedad, viruela, viruela humana, vacuna poliomielitis]   \n",
      "22                                                                     [vacunasarampión guatemalasaleadelante, vacuna sarampión, vacúnate sarampión, vacunaenacción proteccióncontraelsarampión, sarampión salva, sarampión vacuna, vacunasarampión, protégelos sarampión, salud vacuna, vacúnatehoy sarampióncero]   \n",
      "23                                                                                                                                               [gates compró, pfizer pandemia, pandemia vendió, bill gates, gates engaño, acciones pfizer, millones dólares, covid diciendo, pfizer plandemia, millones acciones]   \n",
      "24                                                                                                                                                      [vacuna cubana, cuba vacuna, farmacéutico cuba, ciencia cubana, pulmón cimavax, cimavax recibió, primera vacuna, vacuna niños, cubaessalud, cubaessalud co]   \n",
      "25                                                                                                                                                                                      [8pm7db9v4v co, 6zpjha3uev, 6zpjha3uev co, eujps9rxu0 co, eujps9rxu0, 8pm7db9v4v, eu9phnw9x7, krls co, eu9phnw9x7 co, krls]   \n",
      "26                                                                                                                                                                           [vacunas, enfermedad desconocida, ser humano, preocuparte, parásitos, parásitos pueden, enfermedad aún, toxoplasma, humanos, parásito]   \n",
      "27                                                                                                                                         [vacuna chikungunya, primera vacuna, virus chikungunya, chikungunya avance, vacuna chikunguña, fda aprueba, chikungunya personas, fda aprobó, fda aprobado, chikungunya]   \n",
      "28                                                                                                                                                   [varicela zóster, herpes zóster, zoster vacuna, vacuna herpes, herpes zoster, provocan herpes, herpeszoster, postherpética, herpeszóster herpes, brote herpes]   \n",
      "29                                                                                                                                                                             [polio judío, israelí, judío si, descubrimiento judío, judío zalman, judío llamado, judío jonas, judío, israel, psicoanálisis judío]   \n",
      "30                                                                                                                                              [neuróloga italiana, biológica crimen, vacuna covid, covid vacuna, humanidad detenerlo, arma biológica, sanidad italiano, vacuna, afirmar vacuna, crimen humanidad]   \n",
      "31                                                                                                               [climático vacuna, vacuna primaveras, primaveras democráticas, vacuna primavera, cambio climático, calentamiento global, primavera democrática, vacuna calentamiento, vacuna cambio, covid vacuna]   \n",
      "32                                                                                                                                                                 [pusieron dosis, dosis correctas, leyendo dosis, dosis correcta, dosis triple, triple dosis, dosis piden, quedé dosis, dosis llevan, dosis sera]   \n",
      "33                                                                                                                                                   [cocaína medicamento, adicción cocaína, vacuna anticocaína, cocaína, drogas vacunas, efectos cocaína, cocaína co, vacuna adicción, cocaína crack, anticocaína]   \n",
      "34                                                                                                    [virus respiratorio, influenza sincicial, virus sincicial, sincicial respiratorio, infecciones niños, metapneumovirus menciona, similares resfriado, resfriado, respiratorio sincicial, aviso epidemiológico]   \n",
      "35                                                                                                                                                                [gracias panamá, pa panamá, panameños panamá, grandes panameños, panamá pa, panamá panameño, debe panamá, panamá buena, necesario panamá, panamá]   \n",
      "36                                                                                                           [noalpresupuesto2024 reduce, noalpresupuesto2024, presupuesto opaco, millones niños, niños gobierno, millones vacuna, cobertura vacunación, niños vacuna, falta vacuna, calles defendamoslademocracia]   \n",
      "37                                                                                                                                                          [novak siempre, covid novak, djokovic vauncarse, novak entrevistador, novak, pagar novak, novak djokovic, rafael nadal, entrevistador novak, atp novak]   \n",
      "38                                                                                                                                                                                                                                                                                             [, , , , , , , , , ]   \n",
      "39                                                                                                            [ivermectina, ivermectina previene, tratamiento covid, ivermectina inhibe, ivermectina mata, ivermectina solución, dondeestanlasvacunas, inducidos vacuna, anticancerígenos, turbocánceres inducidos]   \n",
      "40                                                                                                                                            [neozelandeses murieron, muertos vacunados, nueva zelanda, ciento neozelandeses, neozelandeses, vacuna covid, vacunados, vacunados 30, exceso muertes, sido vacunada]   \n",
      "41                                                                                                                                                                       [nipah enfermedad, nipah vacuna, nipah peligroso, nipahvirus, nipah zoonótico, nipahvirus co, virus nipah, nipah existe, nipah, nipah niv]   \n",
      "42                                                                                                                                                   [vacuna colesterol, altos colesterol, colesterol evita, llega vacuna, forma vacuna, colesterol dos, vacuna, rdeigsq49p vacuna, vacuna sonaba, sepa colesterol]   \n",
      "43                                                                                 [teoría conspiracionista, decían conspiraciones, ahora conspiranoicos, teoría conspirativa, conspiranoicos decían, conspiracionista, llamaba conspiranoicos, conspiración teoría, loquitos conspiraciones, conspiraciones basta]   \n",
      "44  [estaeslarevolución cubaesciencia, cubaesciencia estaeslarevolución, cubaesciencia cubaesciencia, cubaesciencia, cubaporlavida cubaesciencia, cubaporlasalud cubaesciencia, cubaesciencia cubaporlasalud, cubaesciencia cubaporlavida, estaeslarevolución cubaporlasalud, estaeslarevolución cubanosconderecho]   \n",
      "45                                                                                                                   [impacto alzheimer, aragonesa alzhéimer, vacuna aragonesa, enfermedad alzheimer, española alzheimer, española alzhéimer, impact alzheimer, alzhéimer supera, vacuna española, vacuna dirigida]   \n",
      "46                                                                                                                                                           [colocarte vacuna, vacuna acude, vacuna protégetepanamá, acude centro, vacuna, salud policlínica, policlínica cercana, centro salud, vacuna co, acude]   \n",
      "47                                                                                                                                    [saprissa vacunados, visa hondureña, saprissa vacuna, viaje honduras, viajar honduras, saprissa debe, honduras jugadores, saprissa necesitan, ir honduras, honduras pidiendo]   \n",
      "48                                                                                                                                        [médicos estadounidenses, mintiendo covid, médicos unidos, médico todavía, médicos disculpen, tucker carlson, médico sigue, iría médico, 99 médicos, erróneamente vacuna]   \n",
      "49                                                                                                                                                 [vacuna india, inmunidad india, pfizer insistió, pfizer nunca, nunca inpfizer, eficacia pfizer, india insistió, pfizer negó, vendió vacuna, rotundamente pfizer]   \n",
      "\n",
      "                                                                                                                       MMR Keywords  \n",
      "0                                                                            [COVID-19 Vaccine Opposition and Alleged Health Risks]  \n",
      "1                                                                          [COVID-19 Vaccine Controversies and WHO Pandemic Treaty]  \n",
      "2                                                                                                         [vacunas y salud pública]  \n",
      "3                                                                                       [OMS aprueba nueva vacuna contra el dengue]  \n",
      "4                                                                 [AstraZeneca COVID-19 vaccine side effects and global withdrawal]  \n",
      "5                                                                                                   [Gratitud y críticas políticas]  \n",
      "6                                                                                      [Vacunación contra el VPH para adolescentes]  \n",
      "7                                                                       [corrupción y administración pública en México y Argentina]  \n",
      "8                                                                             [Putin claims progress on cancer vaccine development]  \n",
      "9                                                                      [Jornada de Vacunación Antirrábica para Mascotas en Octubre]  \n",
      "10                [Iniciación de la campaña de vacunación en Panamá con llegada de nuevas dosis de vacuna hexavalente e influenza.]  \n",
      "11                                                                                                  [COVID-19 Vaccination Advocacy]  \n",
      "12                                                                                      [Dog Adoption and Donations for Stray Dogs]  \n",
      "13                                                                                   [COVID-19 Vaccination Statistics in Guatemala]  \n",
      "14                                                                       [Fútbol Europeo - Rivalidad entre Real Madrid y Barcelona]  \n",
      "15                                                                                          [COVID-19 Vaccination Updates by MSPAS]  \n",
      "16                                                                                          [Waooo and Internet Explorer Obsession]  \n",
      "17                                                                                       [Decline in Beef Consumption in Argentina]  \n",
      "18                                                                     [matrimonio igualitario como \"vacuna\" contra la cancelación]  \n",
      "19                                                                    [Political Figures and Organizations in Costa Rica and Spain]  \n",
      "20                                                                                  [PCR manipulation and COVID vaccine conspiracy]  \n",
      "21                                             [Historia de la Vacunación contra la Viruela y la Expedición Filantrópica de Balmis]  \n",
      "22                                                                                          [Sarampión Vacuna Prevención Guatemala]  \n",
      "23                                                                      [Bill Gates' investment in Pfizer before COVID-19 pandemic]  \n",
      "24                                                                                     [Avances en biotecnología y vacunas en Cuba]  \n",
      "25                                                                                    [Social Media Link Analysis and Data Mapping]  \n",
      "26                                                                                          [Conspiranoia y Manipulación Biológica]  \n",
      "27                                                                      [FDA aprueba la primera vacuna contra el virus chikungunya]  \n",
      "28                                                                                        [Herpes Zóster (Culebrilla) y Vacunación]  \n",
      "29  [Contributions of Jewish Discoveries and Israel to Medicine and Technology in the Context of Political and Humanitarian Issues]  \n",
      "30                                                                                         [COVID Vaccine as Bioweapon Controversy]  \n",
      "31                                           [Impact of COVID, Vaccines, Climate Change, and Democratic Movements on Global Events]  \n",
      "32                                                                                     [COVID-19 Vaccine Doses and Public Opinions]  \n",
      "33                                                                            [Vaccine Development for Cocaine Addiction in Brazil]  \n",
      "34                                                            [Impacto del virus sincicial respiratorio en niños y adultos mayores]  \n",
      "35                                                                                         [Issues and Cultural Identity in Panama]  \n",
      "36                                                            [Opposition to Budget Cuts Impacting Children's Health and Education]  \n",
      "37                                                [Novak Djokovic's Stance on COVID-19 Vaccination and its Impact on Tennis Career]  \n",
      "38                                                                                                      [Funny and Humorous Emojis]  \n",
      "39                                          [Eficacia de la Ivermectina contra COVID-19 y cánceres inducidos por la vacuna de ARNm]  \n",
      "40                                                             [Excess Covid-19 Vaccine Mortality and Health Policy in New Zealand]  \n",
      "41                                                [Nipah virus outbreak in India with high mortality rate and no available vaccine]  \n",
      "42                                                                                                          [vacuna del colesterol]  \n",
      "43                                                                                         [conspiraciones y teorías conspirativas]  \n",
      "44                                                                                           [#CubaEsCiencia y #EstaEsLaRevolución]  \n",
      "45                                                                              [Aragonese Alzheimer's Disease Vaccine Development]  \n",
      "46                                                                                                [Vaccination Promotion in Panama]  \n",
      "47                                                     [Saprissa Players' Visa and Vaccination Requirements for Travel to Honduras]  \n",
      "48                                                        [Tucker Carlson's Criticism of U.S. Doctors Over COVID-19 Vaccine Claims]  \n",
      "49                                                                                              [Pfizer Vaccine Rejection in India]  \n",
      "   Topic  Count  \\\n",
      "0     -1    683   \n",
      "1      0    107   \n",
      "2      1    410   \n",
      "3      2    406   \n",
      "4      3    472   \n",
      "5      4    241   \n",
      "6      5    506   \n",
      "7      6  11936   \n",
      "\n",
      "                                                                                           Name  \\\n",
      "0                                                -1_Vacunación COVID-19 para mayores de 12 años   \n",
      "1                                                       0_COVID-19 Vaccination Updates by MSPAS   \n",
      "2  1_AstraZeneca retira su vacuna contra el COVID-19 por efectos secundarios raros de trombosis   \n",
      "3                                                               2_Vacuna VPH para Niñas y Niños   \n",
      "4                                             3_Rabies Vaccination Campaign for Pets in October   \n",
      "5                      4_Avances en vacunas contra el cáncer y el Premio Nobel de Medicina 2023   \n",
      "6                               5_Vacuna del dengue y su disponibilidad y aprobación por la OMS   \n",
      "7                                                               6_Vacunación COVID-19 en Panamá   \n",
      "\n",
      "                                                                                                                                                                                                                Keywords  \\\n",
      "0                                                                                    [vacuna covid, defensa vacunaste, vacunación, vacuna, vacunas, primera vacuna, recibido vacuna, vacunaste, dosis vacuna, vacuna co]   \n",
      "1  [mqrwj6g0pm planvacunacovid19, mqrwj6fsae planvacunacovid19, mspas comparte, planvacunacovid19, primera dosis, planvacunacovid19 co, vacuna covid19, yf2icakyea planvacunacovid19, completo vacuna, covid19 consulte]   \n",
      "2                        [astrazeneca admite, astrazeneca admitió, vacuna astrazeneca, astrazeneca retira, covid astrazeneca, astrazeneca, efectos secundarios, secundarios trombosis, vacuna covid, síndrome trombosis]   \n",
      "3                                                    [vacuna vph, prevención niñas, protegesufuturo mspas, solicitar vacuna, vacunavph protege, solicita vacuna, paso prevención, cuidamos vacuna, salud futuro, vacuna]   \n",
      "4             [vacuna mascota, vacuna rabia, noviembre vacuna, jornadadevacunacióncontralarabia cuida, octubre vacuna, solicita vacuna, vacuna antirrábica, jornadadevacunacióncontralarabia, canina solicita, mascotas]   \n",
      "5                                                                       [vacuna cáncer, vacunas cáncer, crear vacuna, vacuna personalizada, vacuna covid, primera vacuna, vacuna rusa, vacuna, weissman vacuna, vacunas]   \n",
      "6                                                              [dengue vacuna, vacuna dengue, nueva vacuna, segunda vacuna, vacuna chikungunya, vacuna qdenga, primera vacuna, vacuna malaria, epidemia dengue, vacunas]   \n",
      "7                                                                                                 [vacuna covid, vacunas covid, vacunación, vacunas, vacunados, vacuna, dosis vacuna, vacuna influenza, covid, pandemia]   \n",
      "\n",
      "                                                   MMR Keywords  \n",
      "0                               [Vacunación contra el COVID-19]  \n",
      "1            [COVID-19 Vaccination Statistics Updates by MSPAS]  \n",
      "2    [AstraZeneca Covid-19 Vaccine Withdrawal and Side Effects]  \n",
      "3              [VPH Vaccination Campaign for Children by MSPAS]  \n",
      "4  [Jornada de Vacunación Antirrábica para Mascotas en Octubre]  \n",
      "5            [avances y desarrollo de vacunas contra el cáncer]  \n",
      "6                                    [vacunas contra el dengue]  \n",
      "7                     [COVID-19 Vaccination Campaign in Panama]  \n"
     ]
    }
   ],
   "source": [
    "pd.set_option('max_colwidth', 800)\n",
    "\n",
    "for idx,model in enumerate(models):\n",
    "    print(model.get_topic_info()[['Topic', 'Count', 'Name', 'Keywords', 'MMR Keywords']])\n",
    "    model.get_topic_info()[['Topic', 'Count', 'Name', 'Keywords']].to_csv(f'/Users/wesamazaizeh/Documents/pfizer_slt/combined_countries/results/topics_model_{idx}.csv', index=False)"
   ]
  },
  {
   "cell_type": "code",
   "execution_count": 16,
   "metadata": {},
   "outputs": [
    {
     "data": {
      "application/vnd.plotly.v1+json": {
       "config": {
        "plotlyServerURL": "https://plot.ly"
       },
       "data": [
        {
         "customdata": [
          [
           0,
           "COVID-19 Vaccination Updates by MSPAS",
           107
          ],
          [
           1,
           "AstraZeneca retira su vacuna contra el COVID-19 por efectos secundarios raros de trombosis",
           410
          ],
          [
           2,
           "Vacuna VPH para Niñas y Niños",
           406
          ],
          [
           3,
           "Rabies Vaccination Campaign for Pets in October",
           472
          ],
          [
           4,
           "Avances en vacunas contra el cáncer y el Premio Nobel de Medicina 2023",
           241
          ],
          [
           5,
           "Vacuna del dengue y su disponibilidad y aprobación por la OMS",
           506
          ],
          [
           6,
           "Vacunación COVID-19 en Panamá",
           11936
          ]
         ],
         "hovertemplate": "<b>Topic %{customdata[0]}</b><br>%{customdata[1]}<br>Size: %{customdata[2]}",
         "legendgroup": "",
         "marker": {
          "color": "#B0BEC5",
          "line": {
           "color": "DarkSlateGrey",
           "width": 2
          },
          "size": [
           107,
           410,
           406,
           472,
           241,
           506,
           11936
          ],
          "sizemode": "area",
          "sizeref": 7.46,
          "symbol": "circle"
         },
         "mode": "markers",
         "name": "",
         "orientation": "v",
         "showlegend": false,
         "type": "scatter",
         "x": [
          4.4618187,
          7.095618,
          5.1563478,
          7.8752813,
          5.6044164,
          8.108666,
          8.509944
         ],
         "xaxis": "x",
         "y": [
          17.954876,
          16.728329,
          17.847805,
          17.509583,
          16.005907,
          16.54215,
          17.150736
         ],
         "yaxis": "y"
        }
       ],
       "layout": {
        "annotations": [
         {
          "showarrow": false,
          "text": "D1",
          "x": 3.7925458908081056,
          "y": 17.126564168930052,
          "yshift": 10
         },
         {
          "showarrow": false,
          "text": "D2",
          "x": 6.789490723609924,
          "xshift": 10,
          "y": 20.64810733795166
         }
        ],
        "height": 650,
        "hoverlabel": {
         "bgcolor": "white",
         "font": {
          "family": "Rockwell",
          "size": 16
         }
        },
        "legend": {
         "itemsizing": "constant",
         "tracegroupgap": 0
        },
        "margin": {
         "t": 60
        },
        "shapes": [
         {
          "line": {
           "color": "#CFD8DC",
           "width": 2
          },
          "type": "line",
          "x0": 6.789490723609924,
          "x1": 6.789490723609924,
          "y0": 13.605020999908447,
          "y1": 20.64810733795166
         },
         {
          "line": {
           "color": "#9E9E9E",
           "width": 2
          },
          "type": "line",
          "x0": 3.7925458908081056,
          "x1": 9.786435556411742,
          "y0": 17.126564168930052,
          "y1": 17.126564168930052
         }
        ],
        "sliders": [
         {
          "active": 0,
          "pad": {
           "t": 50
          },
          "steps": [
           {
            "args": [
             {
              "marker.color": [
               [
                "red",
                "#B0BEC5",
                "#B0BEC5",
                "#B0BEC5",
                "#B0BEC5",
                "#B0BEC5",
                "#B0BEC5"
               ]
              ]
             }
            ],
            "label": "Topic 0",
            "method": "update"
           },
           {
            "args": [
             {
              "marker.color": [
               [
                "#B0BEC5",
                "red",
                "#B0BEC5",
                "#B0BEC5",
                "#B0BEC5",
                "#B0BEC5",
                "#B0BEC5"
               ]
              ]
             }
            ],
            "label": "Topic 1",
            "method": "update"
           },
           {
            "args": [
             {
              "marker.color": [
               [
                "#B0BEC5",
                "#B0BEC5",
                "red",
                "#B0BEC5",
                "#B0BEC5",
                "#B0BEC5",
                "#B0BEC5"
               ]
              ]
             }
            ],
            "label": "Topic 2",
            "method": "update"
           },
           {
            "args": [
             {
              "marker.color": [
               [
                "#B0BEC5",
                "#B0BEC5",
                "#B0BEC5",
                "red",
                "#B0BEC5",
                "#B0BEC5",
                "#B0BEC5"
               ]
              ]
             }
            ],
            "label": "Topic 3",
            "method": "update"
           },
           {
            "args": [
             {
              "marker.color": [
               [
                "#B0BEC5",
                "#B0BEC5",
                "#B0BEC5",
                "#B0BEC5",
                "red",
                "#B0BEC5",
                "#B0BEC5"
               ]
              ]
             }
            ],
            "label": "Topic 4",
            "method": "update"
           },
           {
            "args": [
             {
              "marker.color": [
               [
                "#B0BEC5",
                "#B0BEC5",
                "#B0BEC5",
                "#B0BEC5",
                "#B0BEC5",
                "red",
                "#B0BEC5"
               ]
              ]
             }
            ],
            "label": "Topic 5",
            "method": "update"
           },
           {
            "args": [
             {
              "marker.color": [
               [
                "#B0BEC5",
                "#B0BEC5",
                "#B0BEC5",
                "#B0BEC5",
                "#B0BEC5",
                "#B0BEC5",
                "red"
               ]
              ]
             }
            ],
            "label": "Topic 6",
            "method": "update"
           }
          ]
         }
        ],
        "template": {
         "data": {
          "bar": [
           {
            "error_x": {
             "color": "rgb(36,36,36)"
            },
            "error_y": {
             "color": "rgb(36,36,36)"
            },
            "marker": {
             "line": {
              "color": "white",
              "width": 0.5
             },
             "pattern": {
              "fillmode": "overlay",
              "size": 10,
              "solidity": 0.2
             }
            },
            "type": "bar"
           }
          ],
          "barpolar": [
           {
            "marker": {
             "line": {
              "color": "white",
              "width": 0.5
             },
             "pattern": {
              "fillmode": "overlay",
              "size": 10,
              "solidity": 0.2
             }
            },
            "type": "barpolar"
           }
          ],
          "carpet": [
           {
            "aaxis": {
             "endlinecolor": "rgb(36,36,36)",
             "gridcolor": "white",
             "linecolor": "white",
             "minorgridcolor": "white",
             "startlinecolor": "rgb(36,36,36)"
            },
            "baxis": {
             "endlinecolor": "rgb(36,36,36)",
             "gridcolor": "white",
             "linecolor": "white",
             "minorgridcolor": "white",
             "startlinecolor": "rgb(36,36,36)"
            },
            "type": "carpet"
           }
          ],
          "choropleth": [
           {
            "colorbar": {
             "outlinewidth": 1,
             "tickcolor": "rgb(36,36,36)",
             "ticks": "outside"
            },
            "type": "choropleth"
           }
          ],
          "contour": [
           {
            "colorbar": {
             "outlinewidth": 1,
             "tickcolor": "rgb(36,36,36)",
             "ticks": "outside"
            },
            "colorscale": [
             [
              0,
              "#440154"
             ],
             [
              0.1111111111111111,
              "#482878"
             ],
             [
              0.2222222222222222,
              "#3e4989"
             ],
             [
              0.3333333333333333,
              "#31688e"
             ],
             [
              0.4444444444444444,
              "#26828e"
             ],
             [
              0.5555555555555556,
              "#1f9e89"
             ],
             [
              0.6666666666666666,
              "#35b779"
             ],
             [
              0.7777777777777778,
              "#6ece58"
             ],
             [
              0.8888888888888888,
              "#b5de2b"
             ],
             [
              1,
              "#fde725"
             ]
            ],
            "type": "contour"
           }
          ],
          "contourcarpet": [
           {
            "colorbar": {
             "outlinewidth": 1,
             "tickcolor": "rgb(36,36,36)",
             "ticks": "outside"
            },
            "type": "contourcarpet"
           }
          ],
          "heatmap": [
           {
            "colorbar": {
             "outlinewidth": 1,
             "tickcolor": "rgb(36,36,36)",
             "ticks": "outside"
            },
            "colorscale": [
             [
              0,
              "#440154"
             ],
             [
              0.1111111111111111,
              "#482878"
             ],
             [
              0.2222222222222222,
              "#3e4989"
             ],
             [
              0.3333333333333333,
              "#31688e"
             ],
             [
              0.4444444444444444,
              "#26828e"
             ],
             [
              0.5555555555555556,
              "#1f9e89"
             ],
             [
              0.6666666666666666,
              "#35b779"
             ],
             [
              0.7777777777777778,
              "#6ece58"
             ],
             [
              0.8888888888888888,
              "#b5de2b"
             ],
             [
              1,
              "#fde725"
             ]
            ],
            "type": "heatmap"
           }
          ],
          "heatmapgl": [
           {
            "colorbar": {
             "outlinewidth": 1,
             "tickcolor": "rgb(36,36,36)",
             "ticks": "outside"
            },
            "colorscale": [
             [
              0,
              "#440154"
             ],
             [
              0.1111111111111111,
              "#482878"
             ],
             [
              0.2222222222222222,
              "#3e4989"
             ],
             [
              0.3333333333333333,
              "#31688e"
             ],
             [
              0.4444444444444444,
              "#26828e"
             ],
             [
              0.5555555555555556,
              "#1f9e89"
             ],
             [
              0.6666666666666666,
              "#35b779"
             ],
             [
              0.7777777777777778,
              "#6ece58"
             ],
             [
              0.8888888888888888,
              "#b5de2b"
             ],
             [
              1,
              "#fde725"
             ]
            ],
            "type": "heatmapgl"
           }
          ],
          "histogram": [
           {
            "marker": {
             "line": {
              "color": "white",
              "width": 0.6
             }
            },
            "type": "histogram"
           }
          ],
          "histogram2d": [
           {
            "colorbar": {
             "outlinewidth": 1,
             "tickcolor": "rgb(36,36,36)",
             "ticks": "outside"
            },
            "colorscale": [
             [
              0,
              "#440154"
             ],
             [
              0.1111111111111111,
              "#482878"
             ],
             [
              0.2222222222222222,
              "#3e4989"
             ],
             [
              0.3333333333333333,
              "#31688e"
             ],
             [
              0.4444444444444444,
              "#26828e"
             ],
             [
              0.5555555555555556,
              "#1f9e89"
             ],
             [
              0.6666666666666666,
              "#35b779"
             ],
             [
              0.7777777777777778,
              "#6ece58"
             ],
             [
              0.8888888888888888,
              "#b5de2b"
             ],
             [
              1,
              "#fde725"
             ]
            ],
            "type": "histogram2d"
           }
          ],
          "histogram2dcontour": [
           {
            "colorbar": {
             "outlinewidth": 1,
             "tickcolor": "rgb(36,36,36)",
             "ticks": "outside"
            },
            "colorscale": [
             [
              0,
              "#440154"
             ],
             [
              0.1111111111111111,
              "#482878"
             ],
             [
              0.2222222222222222,
              "#3e4989"
             ],
             [
              0.3333333333333333,
              "#31688e"
             ],
             [
              0.4444444444444444,
              "#26828e"
             ],
             [
              0.5555555555555556,
              "#1f9e89"
             ],
             [
              0.6666666666666666,
              "#35b779"
             ],
             [
              0.7777777777777778,
              "#6ece58"
             ],
             [
              0.8888888888888888,
              "#b5de2b"
             ],
             [
              1,
              "#fde725"
             ]
            ],
            "type": "histogram2dcontour"
           }
          ],
          "mesh3d": [
           {
            "colorbar": {
             "outlinewidth": 1,
             "tickcolor": "rgb(36,36,36)",
             "ticks": "outside"
            },
            "type": "mesh3d"
           }
          ],
          "parcoords": [
           {
            "line": {
             "colorbar": {
              "outlinewidth": 1,
              "tickcolor": "rgb(36,36,36)",
              "ticks": "outside"
             }
            },
            "type": "parcoords"
           }
          ],
          "pie": [
           {
            "automargin": true,
            "type": "pie"
           }
          ],
          "scatter": [
           {
            "fillpattern": {
             "fillmode": "overlay",
             "size": 10,
             "solidity": 0.2
            },
            "type": "scatter"
           }
          ],
          "scatter3d": [
           {
            "line": {
             "colorbar": {
              "outlinewidth": 1,
              "tickcolor": "rgb(36,36,36)",
              "ticks": "outside"
             }
            },
            "marker": {
             "colorbar": {
              "outlinewidth": 1,
              "tickcolor": "rgb(36,36,36)",
              "ticks": "outside"
             }
            },
            "type": "scatter3d"
           }
          ],
          "scattercarpet": [
           {
            "marker": {
             "colorbar": {
              "outlinewidth": 1,
              "tickcolor": "rgb(36,36,36)",
              "ticks": "outside"
             }
            },
            "type": "scattercarpet"
           }
          ],
          "scattergeo": [
           {
            "marker": {
             "colorbar": {
              "outlinewidth": 1,
              "tickcolor": "rgb(36,36,36)",
              "ticks": "outside"
             }
            },
            "type": "scattergeo"
           }
          ],
          "scattergl": [
           {
            "marker": {
             "colorbar": {
              "outlinewidth": 1,
              "tickcolor": "rgb(36,36,36)",
              "ticks": "outside"
             }
            },
            "type": "scattergl"
           }
          ],
          "scattermapbox": [
           {
            "marker": {
             "colorbar": {
              "outlinewidth": 1,
              "tickcolor": "rgb(36,36,36)",
              "ticks": "outside"
             }
            },
            "type": "scattermapbox"
           }
          ],
          "scatterpolar": [
           {
            "marker": {
             "colorbar": {
              "outlinewidth": 1,
              "tickcolor": "rgb(36,36,36)",
              "ticks": "outside"
             }
            },
            "type": "scatterpolar"
           }
          ],
          "scatterpolargl": [
           {
            "marker": {
             "colorbar": {
              "outlinewidth": 1,
              "tickcolor": "rgb(36,36,36)",
              "ticks": "outside"
             }
            },
            "type": "scatterpolargl"
           }
          ],
          "scatterternary": [
           {
            "marker": {
             "colorbar": {
              "outlinewidth": 1,
              "tickcolor": "rgb(36,36,36)",
              "ticks": "outside"
             }
            },
            "type": "scatterternary"
           }
          ],
          "surface": [
           {
            "colorbar": {
             "outlinewidth": 1,
             "tickcolor": "rgb(36,36,36)",
             "ticks": "outside"
            },
            "colorscale": [
             [
              0,
              "#440154"
             ],
             [
              0.1111111111111111,
              "#482878"
             ],
             [
              0.2222222222222222,
              "#3e4989"
             ],
             [
              0.3333333333333333,
              "#31688e"
             ],
             [
              0.4444444444444444,
              "#26828e"
             ],
             [
              0.5555555555555556,
              "#1f9e89"
             ],
             [
              0.6666666666666666,
              "#35b779"
             ],
             [
              0.7777777777777778,
              "#6ece58"
             ],
             [
              0.8888888888888888,
              "#b5de2b"
             ],
             [
              1,
              "#fde725"
             ]
            ],
            "type": "surface"
           }
          ],
          "table": [
           {
            "cells": {
             "fill": {
              "color": "rgb(237,237,237)"
             },
             "line": {
              "color": "white"
             }
            },
            "header": {
             "fill": {
              "color": "rgb(217,217,217)"
             },
             "line": {
              "color": "white"
             }
            },
            "type": "table"
           }
          ]
         },
         "layout": {
          "annotationdefaults": {
           "arrowhead": 0,
           "arrowwidth": 1
          },
          "autotypenumbers": "strict",
          "coloraxis": {
           "colorbar": {
            "outlinewidth": 1,
            "tickcolor": "rgb(36,36,36)",
            "ticks": "outside"
           }
          },
          "colorscale": {
           "diverging": [
            [
             0,
             "rgb(103,0,31)"
            ],
            [
             0.1,
             "rgb(178,24,43)"
            ],
            [
             0.2,
             "rgb(214,96,77)"
            ],
            [
             0.3,
             "rgb(244,165,130)"
            ],
            [
             0.4,
             "rgb(253,219,199)"
            ],
            [
             0.5,
             "rgb(247,247,247)"
            ],
            [
             0.6,
             "rgb(209,229,240)"
            ],
            [
             0.7,
             "rgb(146,197,222)"
            ],
            [
             0.8,
             "rgb(67,147,195)"
            ],
            [
             0.9,
             "rgb(33,102,172)"
            ],
            [
             1,
             "rgb(5,48,97)"
            ]
           ],
           "sequential": [
            [
             0,
             "#440154"
            ],
            [
             0.1111111111111111,
             "#482878"
            ],
            [
             0.2222222222222222,
             "#3e4989"
            ],
            [
             0.3333333333333333,
             "#31688e"
            ],
            [
             0.4444444444444444,
             "#26828e"
            ],
            [
             0.5555555555555556,
             "#1f9e89"
            ],
            [
             0.6666666666666666,
             "#35b779"
            ],
            [
             0.7777777777777778,
             "#6ece58"
            ],
            [
             0.8888888888888888,
             "#b5de2b"
            ],
            [
             1,
             "#fde725"
            ]
           ],
           "sequentialminus": [
            [
             0,
             "#440154"
            ],
            [
             0.1111111111111111,
             "#482878"
            ],
            [
             0.2222222222222222,
             "#3e4989"
            ],
            [
             0.3333333333333333,
             "#31688e"
            ],
            [
             0.4444444444444444,
             "#26828e"
            ],
            [
             0.5555555555555556,
             "#1f9e89"
            ],
            [
             0.6666666666666666,
             "#35b779"
            ],
            [
             0.7777777777777778,
             "#6ece58"
            ],
            [
             0.8888888888888888,
             "#b5de2b"
            ],
            [
             1,
             "#fde725"
            ]
           ]
          },
          "colorway": [
           "#1F77B4",
           "#FF7F0E",
           "#2CA02C",
           "#D62728",
           "#9467BD",
           "#8C564B",
           "#E377C2",
           "#7F7F7F",
           "#BCBD22",
           "#17BECF"
          ],
          "font": {
           "color": "rgb(36,36,36)"
          },
          "geo": {
           "bgcolor": "white",
           "lakecolor": "white",
           "landcolor": "white",
           "showlakes": true,
           "showland": true,
           "subunitcolor": "white"
          },
          "hoverlabel": {
           "align": "left"
          },
          "hovermode": "closest",
          "mapbox": {
           "style": "light"
          },
          "paper_bgcolor": "white",
          "plot_bgcolor": "white",
          "polar": {
           "angularaxis": {
            "gridcolor": "rgb(232,232,232)",
            "linecolor": "rgb(36,36,36)",
            "showgrid": false,
            "showline": true,
            "ticks": "outside"
           },
           "bgcolor": "white",
           "radialaxis": {
            "gridcolor": "rgb(232,232,232)",
            "linecolor": "rgb(36,36,36)",
            "showgrid": false,
            "showline": true,
            "ticks": "outside"
           }
          },
          "scene": {
           "xaxis": {
            "backgroundcolor": "white",
            "gridcolor": "rgb(232,232,232)",
            "gridwidth": 2,
            "linecolor": "rgb(36,36,36)",
            "showbackground": true,
            "showgrid": false,
            "showline": true,
            "ticks": "outside",
            "zeroline": false,
            "zerolinecolor": "rgb(36,36,36)"
           },
           "yaxis": {
            "backgroundcolor": "white",
            "gridcolor": "rgb(232,232,232)",
            "gridwidth": 2,
            "linecolor": "rgb(36,36,36)",
            "showbackground": true,
            "showgrid": false,
            "showline": true,
            "ticks": "outside",
            "zeroline": false,
            "zerolinecolor": "rgb(36,36,36)"
           },
           "zaxis": {
            "backgroundcolor": "white",
            "gridcolor": "rgb(232,232,232)",
            "gridwidth": 2,
            "linecolor": "rgb(36,36,36)",
            "showbackground": true,
            "showgrid": false,
            "showline": true,
            "ticks": "outside",
            "zeroline": false,
            "zerolinecolor": "rgb(36,36,36)"
           }
          },
          "shapedefaults": {
           "fillcolor": "black",
           "line": {
            "width": 0
           },
           "opacity": 0.3
          },
          "ternary": {
           "aaxis": {
            "gridcolor": "rgb(232,232,232)",
            "linecolor": "rgb(36,36,36)",
            "showgrid": false,
            "showline": true,
            "ticks": "outside"
           },
           "baxis": {
            "gridcolor": "rgb(232,232,232)",
            "linecolor": "rgb(36,36,36)",
            "showgrid": false,
            "showline": true,
            "ticks": "outside"
           },
           "bgcolor": "white",
           "caxis": {
            "gridcolor": "rgb(232,232,232)",
            "linecolor": "rgb(36,36,36)",
            "showgrid": false,
            "showline": true,
            "ticks": "outside"
           }
          },
          "title": {
           "x": 0.05
          },
          "xaxis": {
           "automargin": true,
           "gridcolor": "rgb(232,232,232)",
           "linecolor": "rgb(36,36,36)",
           "showgrid": false,
           "showline": true,
           "ticks": "outside",
           "title": {
            "standoff": 15
           },
           "zeroline": false,
           "zerolinecolor": "rgb(36,36,36)"
          },
          "yaxis": {
           "automargin": true,
           "gridcolor": "rgb(232,232,232)",
           "linecolor": "rgb(36,36,36)",
           "showgrid": false,
           "showline": true,
           "ticks": "outside",
           "title": {
            "standoff": 15
           },
           "zeroline": false,
           "zerolinecolor": "rgb(36,36,36)"
          }
         }
        },
        "title": {
         "font": {
          "color": "Black",
          "size": 22
         },
         "text": "<b>Intertopic Distance Map</b>",
         "x": 0.5,
         "xanchor": "center",
         "y": 0.95,
         "yanchor": "top"
        },
        "width": 650,
        "xaxis": {
         "anchor": "y",
         "domain": [
          0,
          1
         ],
         "range": [
          3.7925458908081056,
          9.786435556411742
         ],
         "title": {
          "text": ""
         },
         "visible": false
        },
        "yaxis": {
         "anchor": "x",
         "domain": [
          0,
          1
         ],
         "range": [
          13.605020999908447,
          20.64810733795166
         ],
         "title": {
          "text": ""
         },
         "visible": false
        }
       }
      }
     },
     "metadata": {},
     "output_type": "display_data"
    }
   ],
   "source": [
    "models[4].visualize_topics()"
   ]
  },
  {
   "cell_type": "code",
   "execution_count": 18,
   "metadata": {},
   "outputs": [
    {
     "name": "stderr",
     "output_type": "stream",
     "text": [
      "  0%|          | 0/13 [00:00<?, ?it/s]\n"
     ]
    },
    {
     "name": "stdout",
     "output_type": "stream",
     "text": [
      "Failed to visualize hierarchical tree for model 0\n",
      " dimension mismatch\n"
     ]
    },
    {
     "name": "stderr",
     "output_type": "stream",
     "text": [
      "  0%|          | 0/6 [00:00<?, ?it/s]\n"
     ]
    },
    {
     "name": "stdout",
     "output_type": "stream",
     "text": [
      "Failed to visualize hierarchical tree for model 1\n",
      " dimension mismatch\n"
     ]
    },
    {
     "name": "stderr",
     "output_type": "stream",
     "text": [
      "  0%|          | 0/6 [00:00<?, ?it/s]\n"
     ]
    },
    {
     "name": "stdout",
     "output_type": "stream",
     "text": [
      "Failed to visualize hierarchical tree for model 2\n",
      " dimension mismatch\n"
     ]
    },
    {
     "name": "stderr",
     "output_type": "stream",
     "text": [
      "  0%|          | 0/48 [00:00<?, ?it/s]\n"
     ]
    },
    {
     "name": "stdout",
     "output_type": "stream",
     "text": [
      "Failed to visualize hierarchical tree for model 3\n",
      " dimension mismatch\n"
     ]
    },
    {
     "name": "stderr",
     "output_type": "stream",
     "text": [
      "100%|██████████| 1/1 [00:05<00:00,  5.71s/it]\n",
      "100%|██████████| 1/1 [00:05<00:00,  5.75s/it]\n",
      "100%|██████████| 1/1 [00:05<00:00,  5.77s/it]\n",
      "100%|██████████| 1/1 [00:05<00:00,  5.84s/it]\n",
      "100%|██████████| 1/1 [00:05<00:00,  5.74s/it]\n",
      "100%|██████████| 1/1 [00:05<00:00,  5.87s/it]\n",
      "100%|██████████| 6/6 [00:34<00:00,  5.83s/it]\n"
     ]
    },
    {
     "data": {
      "application/vnd.plotly.v1+json": {
       "config": {
        "plotlyServerURL": "https://plot.ly"
       },
       "data": [
        {
         "hoverinfo": "text",
         "marker": {
          "color": "rgb(61,153,112)"
         },
         "mode": "lines",
         "text": [
          "Vacuna VPH para Niñas y Niños",
          "",
          "",
          "Rabies Vaccination Campaign for Pets in October"
         ],
         "type": "scatter",
         "x": [
          0,
          0.7936093228188517,
          0.7936093228188517,
          0
         ],
         "xaxis": "x",
         "y": [
          -15,
          -15,
          -25,
          -25
         ],
         "yaxis": "y"
        },
        {
         "hoverinfo": "text",
         "marker": {
          "color": "rgb(61,153,112)"
         },
         "mode": "lines",
         "text": [
          "Vacunación COVID-19 en Panamá",
          "",
          "",
          "AstraZeneca retira su vacuna contra el COVID-19 por efectos secundarios raros de trombosis"
         ],
         "type": "scatter",
         "x": [
          0,
          0.524162017109686,
          0.524162017109686,
          0
         ],
         "xaxis": "x",
         "y": [
          -55,
          -55,
          -65,
          -65
         ],
         "yaxis": "y"
        },
        {
         "hoverinfo": "text",
         "marker": {
          "color": "rgb(61,153,112)"
         },
         "mode": "lines",
         "text": [
          "Avances en vacunas contra el cáncer y el Premio Nobel de Medicina 2023",
          "",
          "",
          "Vacunas COVID-19 y sus efectos secundarios"
         ],
         "type": "scatter",
         "x": [
          0,
          0.7319966930897763,
          0.7319966930897763,
          0.524162017109686
         ],
         "xaxis": "x",
         "y": [
          -45,
          -45,
          -60,
          -60
         ],
         "yaxis": "y"
        },
        {
         "hoverinfo": "text",
         "marker": {
          "color": "rgb(61,153,112)"
         },
         "mode": "lines",
         "text": [
          "Vacuna del dengue y su disponibilidad y aprobación por la OMS",
          "",
          "",
          "COVID-19 vaccine effectiveness and safety concerns"
         ],
         "type": "scatter",
         "x": [
          0,
          0.7430331012389643,
          0.7430331012389643,
          0.7319966930897763
         ],
         "xaxis": "x",
         "y": [
          -35,
          -35,
          -52.5,
          -52.5
         ],
         "yaxis": "y"
        },
        {
         "hoverinfo": "text",
         "marker": {
          "color": "rgb(61,153,112)"
         },
         "mode": "lines",
         "text": [
          "Vacunación VPH para jóvenes",
          "",
          "",
          "controversial findings and claims about COVID-19 vaccines and treatments"
         ],
         "type": "scatter",
         "x": [
          0.7936093228188517,
          0.948358851450581,
          0.948358851450581,
          0.7430331012389643
         ],
         "xaxis": "x",
         "y": [
          -20,
          -20,
          -43.75,
          -43.75
         ],
         "yaxis": "y"
        },
        {
         "hoverinfo": "text",
         "marker": {
          "color": "rgb(0,116,217)"
         },
         "mode": "lines",
         "text": [
          "COVID-19 Vaccination Updates by MSPAS",
          "",
          "",
          "Vaccination and Health Concerns"
         ],
         "type": "scatter",
         "x": [
          0,
          1.0212001388350227,
          1.0212001388350227,
          0.948358851450581
         ],
         "xaxis": "x",
         "y": [
          -5,
          -5,
          -31.875,
          -31.875
         ],
         "yaxis": "y"
        },
        {
         "hoverinfo": "text",
         "hovertext": [
          "Vacunación VPH para jóvenes"
         ],
         "marker": {
          "color": "black"
         },
         "mode": "markers",
         "showlegend": false,
         "type": "scatter",
         "x": [
          0.7936093228188517
         ],
         "y": [
          -20
         ]
        },
        {
         "hoverinfo": "text",
         "hovertext": [
          "Vacunas COVID-19 y sus efectos secundarios",
          "COVID-19 vaccine effectiveness and safety concerns",
          "controversial findings and claims about COVID-19 vaccines and treatments",
          "Vaccination and Health Concerns"
         ],
         "marker": {
          "color": "black"
         },
         "mode": "markers",
         "showlegend": false,
         "type": "scatter",
         "x": [
          0.524162017109686,
          0.7319966930897763,
          0.7430331012389643,
          0.948358851450581
         ],
         "y": [
          -60,
          -52.5,
          -43.75,
          -31.875
         ]
        }
       ],
       "layout": {
        "autosize": false,
        "height": 305,
        "hoverlabel": {
         "bgcolor": "white",
         "font": {
          "family": "Rockwell",
          "size": 16
         }
        },
        "hovermode": "closest",
        "plot_bgcolor": "#ECEFF1",
        "showlegend": false,
        "template": {
         "data": {
          "bar": [
           {
            "error_x": {
             "color": "#2a3f5f"
            },
            "error_y": {
             "color": "#2a3f5f"
            },
            "marker": {
             "line": {
              "color": "white",
              "width": 0.5
             },
             "pattern": {
              "fillmode": "overlay",
              "size": 10,
              "solidity": 0.2
             }
            },
            "type": "bar"
           }
          ],
          "barpolar": [
           {
            "marker": {
             "line": {
              "color": "white",
              "width": 0.5
             },
             "pattern": {
              "fillmode": "overlay",
              "size": 10,
              "solidity": 0.2
             }
            },
            "type": "barpolar"
           }
          ],
          "carpet": [
           {
            "aaxis": {
             "endlinecolor": "#2a3f5f",
             "gridcolor": "#C8D4E3",
             "linecolor": "#C8D4E3",
             "minorgridcolor": "#C8D4E3",
             "startlinecolor": "#2a3f5f"
            },
            "baxis": {
             "endlinecolor": "#2a3f5f",
             "gridcolor": "#C8D4E3",
             "linecolor": "#C8D4E3",
             "minorgridcolor": "#C8D4E3",
             "startlinecolor": "#2a3f5f"
            },
            "type": "carpet"
           }
          ],
          "choropleth": [
           {
            "colorbar": {
             "outlinewidth": 0,
             "ticks": ""
            },
            "type": "choropleth"
           }
          ],
          "contour": [
           {
            "colorbar": {
             "outlinewidth": 0,
             "ticks": ""
            },
            "colorscale": [
             [
              0,
              "#0d0887"
             ],
             [
              0.1111111111111111,
              "#46039f"
             ],
             [
              0.2222222222222222,
              "#7201a8"
             ],
             [
              0.3333333333333333,
              "#9c179e"
             ],
             [
              0.4444444444444444,
              "#bd3786"
             ],
             [
              0.5555555555555556,
              "#d8576b"
             ],
             [
              0.6666666666666666,
              "#ed7953"
             ],
             [
              0.7777777777777778,
              "#fb9f3a"
             ],
             [
              0.8888888888888888,
              "#fdca26"
             ],
             [
              1,
              "#f0f921"
             ]
            ],
            "type": "contour"
           }
          ],
          "contourcarpet": [
           {
            "colorbar": {
             "outlinewidth": 0,
             "ticks": ""
            },
            "type": "contourcarpet"
           }
          ],
          "heatmap": [
           {
            "colorbar": {
             "outlinewidth": 0,
             "ticks": ""
            },
            "colorscale": [
             [
              0,
              "#0d0887"
             ],
             [
              0.1111111111111111,
              "#46039f"
             ],
             [
              0.2222222222222222,
              "#7201a8"
             ],
             [
              0.3333333333333333,
              "#9c179e"
             ],
             [
              0.4444444444444444,
              "#bd3786"
             ],
             [
              0.5555555555555556,
              "#d8576b"
             ],
             [
              0.6666666666666666,
              "#ed7953"
             ],
             [
              0.7777777777777778,
              "#fb9f3a"
             ],
             [
              0.8888888888888888,
              "#fdca26"
             ],
             [
              1,
              "#f0f921"
             ]
            ],
            "type": "heatmap"
           }
          ],
          "heatmapgl": [
           {
            "colorbar": {
             "outlinewidth": 0,
             "ticks": ""
            },
            "colorscale": [
             [
              0,
              "#0d0887"
             ],
             [
              0.1111111111111111,
              "#46039f"
             ],
             [
              0.2222222222222222,
              "#7201a8"
             ],
             [
              0.3333333333333333,
              "#9c179e"
             ],
             [
              0.4444444444444444,
              "#bd3786"
             ],
             [
              0.5555555555555556,
              "#d8576b"
             ],
             [
              0.6666666666666666,
              "#ed7953"
             ],
             [
              0.7777777777777778,
              "#fb9f3a"
             ],
             [
              0.8888888888888888,
              "#fdca26"
             ],
             [
              1,
              "#f0f921"
             ]
            ],
            "type": "heatmapgl"
           }
          ],
          "histogram": [
           {
            "marker": {
             "pattern": {
              "fillmode": "overlay",
              "size": 10,
              "solidity": 0.2
             }
            },
            "type": "histogram"
           }
          ],
          "histogram2d": [
           {
            "colorbar": {
             "outlinewidth": 0,
             "ticks": ""
            },
            "colorscale": [
             [
              0,
              "#0d0887"
             ],
             [
              0.1111111111111111,
              "#46039f"
             ],
             [
              0.2222222222222222,
              "#7201a8"
             ],
             [
              0.3333333333333333,
              "#9c179e"
             ],
             [
              0.4444444444444444,
              "#bd3786"
             ],
             [
              0.5555555555555556,
              "#d8576b"
             ],
             [
              0.6666666666666666,
              "#ed7953"
             ],
             [
              0.7777777777777778,
              "#fb9f3a"
             ],
             [
              0.8888888888888888,
              "#fdca26"
             ],
             [
              1,
              "#f0f921"
             ]
            ],
            "type": "histogram2d"
           }
          ],
          "histogram2dcontour": [
           {
            "colorbar": {
             "outlinewidth": 0,
             "ticks": ""
            },
            "colorscale": [
             [
              0,
              "#0d0887"
             ],
             [
              0.1111111111111111,
              "#46039f"
             ],
             [
              0.2222222222222222,
              "#7201a8"
             ],
             [
              0.3333333333333333,
              "#9c179e"
             ],
             [
              0.4444444444444444,
              "#bd3786"
             ],
             [
              0.5555555555555556,
              "#d8576b"
             ],
             [
              0.6666666666666666,
              "#ed7953"
             ],
             [
              0.7777777777777778,
              "#fb9f3a"
             ],
             [
              0.8888888888888888,
              "#fdca26"
             ],
             [
              1,
              "#f0f921"
             ]
            ],
            "type": "histogram2dcontour"
           }
          ],
          "mesh3d": [
           {
            "colorbar": {
             "outlinewidth": 0,
             "ticks": ""
            },
            "type": "mesh3d"
           }
          ],
          "parcoords": [
           {
            "line": {
             "colorbar": {
              "outlinewidth": 0,
              "ticks": ""
             }
            },
            "type": "parcoords"
           }
          ],
          "pie": [
           {
            "automargin": true,
            "type": "pie"
           }
          ],
          "scatter": [
           {
            "fillpattern": {
             "fillmode": "overlay",
             "size": 10,
             "solidity": 0.2
            },
            "type": "scatter"
           }
          ],
          "scatter3d": [
           {
            "line": {
             "colorbar": {
              "outlinewidth": 0,
              "ticks": ""
             }
            },
            "marker": {
             "colorbar": {
              "outlinewidth": 0,
              "ticks": ""
             }
            },
            "type": "scatter3d"
           }
          ],
          "scattercarpet": [
           {
            "marker": {
             "colorbar": {
              "outlinewidth": 0,
              "ticks": ""
             }
            },
            "type": "scattercarpet"
           }
          ],
          "scattergeo": [
           {
            "marker": {
             "colorbar": {
              "outlinewidth": 0,
              "ticks": ""
             }
            },
            "type": "scattergeo"
           }
          ],
          "scattergl": [
           {
            "marker": {
             "colorbar": {
              "outlinewidth": 0,
              "ticks": ""
             }
            },
            "type": "scattergl"
           }
          ],
          "scattermapbox": [
           {
            "marker": {
             "colorbar": {
              "outlinewidth": 0,
              "ticks": ""
             }
            },
            "type": "scattermapbox"
           }
          ],
          "scatterpolar": [
           {
            "marker": {
             "colorbar": {
              "outlinewidth": 0,
              "ticks": ""
             }
            },
            "type": "scatterpolar"
           }
          ],
          "scatterpolargl": [
           {
            "marker": {
             "colorbar": {
              "outlinewidth": 0,
              "ticks": ""
             }
            },
            "type": "scatterpolargl"
           }
          ],
          "scatterternary": [
           {
            "marker": {
             "colorbar": {
              "outlinewidth": 0,
              "ticks": ""
             }
            },
            "type": "scatterternary"
           }
          ],
          "surface": [
           {
            "colorbar": {
             "outlinewidth": 0,
             "ticks": ""
            },
            "colorscale": [
             [
              0,
              "#0d0887"
             ],
             [
              0.1111111111111111,
              "#46039f"
             ],
             [
              0.2222222222222222,
              "#7201a8"
             ],
             [
              0.3333333333333333,
              "#9c179e"
             ],
             [
              0.4444444444444444,
              "#bd3786"
             ],
             [
              0.5555555555555556,
              "#d8576b"
             ],
             [
              0.6666666666666666,
              "#ed7953"
             ],
             [
              0.7777777777777778,
              "#fb9f3a"
             ],
             [
              0.8888888888888888,
              "#fdca26"
             ],
             [
              1,
              "#f0f921"
             ]
            ],
            "type": "surface"
           }
          ],
          "table": [
           {
            "cells": {
             "fill": {
              "color": "#EBF0F8"
             },
             "line": {
              "color": "white"
             }
            },
            "header": {
             "fill": {
              "color": "#C8D4E3"
             },
             "line": {
              "color": "white"
             }
            },
            "type": "table"
           }
          ]
         },
         "layout": {
          "annotationdefaults": {
           "arrowcolor": "#2a3f5f",
           "arrowhead": 0,
           "arrowwidth": 1
          },
          "autotypenumbers": "strict",
          "coloraxis": {
           "colorbar": {
            "outlinewidth": 0,
            "ticks": ""
           }
          },
          "colorscale": {
           "diverging": [
            [
             0,
             "#8e0152"
            ],
            [
             0.1,
             "#c51b7d"
            ],
            [
             0.2,
             "#de77ae"
            ],
            [
             0.3,
             "#f1b6da"
            ],
            [
             0.4,
             "#fde0ef"
            ],
            [
             0.5,
             "#f7f7f7"
            ],
            [
             0.6,
             "#e6f5d0"
            ],
            [
             0.7,
             "#b8e186"
            ],
            [
             0.8,
             "#7fbc41"
            ],
            [
             0.9,
             "#4d9221"
            ],
            [
             1,
             "#276419"
            ]
           ],
           "sequential": [
            [
             0,
             "#0d0887"
            ],
            [
             0.1111111111111111,
             "#46039f"
            ],
            [
             0.2222222222222222,
             "#7201a8"
            ],
            [
             0.3333333333333333,
             "#9c179e"
            ],
            [
             0.4444444444444444,
             "#bd3786"
            ],
            [
             0.5555555555555556,
             "#d8576b"
            ],
            [
             0.6666666666666666,
             "#ed7953"
            ],
            [
             0.7777777777777778,
             "#fb9f3a"
            ],
            [
             0.8888888888888888,
             "#fdca26"
            ],
            [
             1,
             "#f0f921"
            ]
           ],
           "sequentialminus": [
            [
             0,
             "#0d0887"
            ],
            [
             0.1111111111111111,
             "#46039f"
            ],
            [
             0.2222222222222222,
             "#7201a8"
            ],
            [
             0.3333333333333333,
             "#9c179e"
            ],
            [
             0.4444444444444444,
             "#bd3786"
            ],
            [
             0.5555555555555556,
             "#d8576b"
            ],
            [
             0.6666666666666666,
             "#ed7953"
            ],
            [
             0.7777777777777778,
             "#fb9f3a"
            ],
            [
             0.8888888888888888,
             "#fdca26"
            ],
            [
             1,
             "#f0f921"
            ]
           ]
          },
          "colorway": [
           "#636efa",
           "#EF553B",
           "#00cc96",
           "#ab63fa",
           "#FFA15A",
           "#19d3f3",
           "#FF6692",
           "#B6E880",
           "#FF97FF",
           "#FECB52"
          ],
          "font": {
           "color": "#2a3f5f"
          },
          "geo": {
           "bgcolor": "white",
           "lakecolor": "white",
           "landcolor": "white",
           "showlakes": true,
           "showland": true,
           "subunitcolor": "#C8D4E3"
          },
          "hoverlabel": {
           "align": "left"
          },
          "hovermode": "closest",
          "mapbox": {
           "style": "light"
          },
          "paper_bgcolor": "white",
          "plot_bgcolor": "white",
          "polar": {
           "angularaxis": {
            "gridcolor": "#EBF0F8",
            "linecolor": "#EBF0F8",
            "ticks": ""
           },
           "bgcolor": "white",
           "radialaxis": {
            "gridcolor": "#EBF0F8",
            "linecolor": "#EBF0F8",
            "ticks": ""
           }
          },
          "scene": {
           "xaxis": {
            "backgroundcolor": "white",
            "gridcolor": "#DFE8F3",
            "gridwidth": 2,
            "linecolor": "#EBF0F8",
            "showbackground": true,
            "ticks": "",
            "zerolinecolor": "#EBF0F8"
           },
           "yaxis": {
            "backgroundcolor": "white",
            "gridcolor": "#DFE8F3",
            "gridwidth": 2,
            "linecolor": "#EBF0F8",
            "showbackground": true,
            "ticks": "",
            "zerolinecolor": "#EBF0F8"
           },
           "zaxis": {
            "backgroundcolor": "white",
            "gridcolor": "#DFE8F3",
            "gridwidth": 2,
            "linecolor": "#EBF0F8",
            "showbackground": true,
            "ticks": "",
            "zerolinecolor": "#EBF0F8"
           }
          },
          "shapedefaults": {
           "line": {
            "color": "#2a3f5f"
           }
          },
          "ternary": {
           "aaxis": {
            "gridcolor": "#DFE8F3",
            "linecolor": "#A2B1C6",
            "ticks": ""
           },
           "baxis": {
            "gridcolor": "#DFE8F3",
            "linecolor": "#A2B1C6",
            "ticks": ""
           },
           "bgcolor": "white",
           "caxis": {
            "gridcolor": "#DFE8F3",
            "linecolor": "#A2B1C6",
            "ticks": ""
           }
          },
          "title": {
           "x": 0.05
          },
          "xaxis": {
           "automargin": true,
           "gridcolor": "#EBF0F8",
           "linecolor": "#EBF0F8",
           "ticks": "",
           "title": {
            "standoff": 15
           },
           "zerolinecolor": "#EBF0F8",
           "zerolinewidth": 2
          },
          "yaxis": {
           "automargin": true,
           "gridcolor": "#EBF0F8",
           "linecolor": "#EBF0F8",
           "ticks": "",
           "title": {
            "standoff": 15
           },
           "zerolinecolor": "#EBF0F8",
           "zerolinewidth": 2
          }
         }
        },
        "title": {
         "font": {
          "color": "Black",
          "size": 22
         },
         "text": "<b>Hierarchical Clustering</b>",
         "x": 0.5,
         "xanchor": "center",
         "yanchor": "top"
        },
        "width": 1000,
        "xaxis": {
         "mirror": "allticks",
         "rangemode": "tozero",
         "showgrid": false,
         "showline": true,
         "showticklabels": true,
         "ticks": "outside",
         "type": "linear",
         "zeroline": false
        },
        "yaxis": {
         "mirror": "allticks",
         "range": [
          -70,
          0
         ],
         "rangemode": "tozero",
         "showgrid": false,
         "showline": true,
         "showticklabels": true,
         "tickmode": "array",
         "ticks": "outside",
         "ticktext": [
          "0_COVID-19 Vaccination Upda...",
          "2_Vacuna VPH para Niñas y N...",
          "3_Rabies Vaccination Campai...",
          "5_Vacuna del dengue y su di...",
          "4_Avances en vacunas contra...",
          "6_Vacunación COVID-19 en Pa...",
          "1_AstraZeneca retira su vac..."
         ],
         "tickvals": [
          -5,
          -15,
          -25,
          -35,
          -45,
          -55,
          -65
         ],
         "type": "linear",
         "zeroline": false
        }
       }
      }
     },
     "metadata": {},
     "output_type": "display_data"
    }
   ],
   "source": [
    "for idx, model in enumerate(models):\n",
    "    try:\n",
    "        hierarchical_topics = model.hierarchical_topics(docs)\n",
    "        tree = model.visualize_hierarchy(hierarchical_topics=hierarchical_topics)\n",
    "        tree.show()\n",
    "        try:\n",
    "            tree.write_html(f'/Users/wesamazaizeh/Documents/pfizer_slt/combined_countries/results/hierarchical_tree_{idx}.html')\n",
    "        except FileNotFoundError:\n",
    "            os.mkdir('/Users/wesamazaizeh/Documents/pfizer_slt/combined_countries/results')\n",
    "            tree.write_html(f'/Users/wesamazaizeh/Documents/pfizer_slt/combined_countries/results/hierarchical_tree_{idx}.html')\n",
    "    except Exception as e:\n",
    "        print(f'Failed to visualize hierarchical tree for model {idx}\\n {e}')"
   ]
  },
  {
   "cell_type": "code",
   "execution_count": null,
   "metadata": {},
   "outputs": [],
   "source": []
  }
 ],
 "metadata": {
  "kernelspec": {
   "display_name": "Topic_Modeling-_FkilTJX",
   "language": "python",
   "name": "topic_modeling-_fkiltjx"
  },
  "language_info": {
   "codemirror_mode": {
    "name": "ipython",
    "version": 3
   },
   "file_extension": ".py",
   "mimetype": "text/x-python",
   "name": "python",
   "nbconvert_exporter": "python",
   "pygments_lexer": "ipython3",
   "version": "3.9.6"
  }
 },
 "nbformat": 4,
 "nbformat_minor": 2
}
